{
 "cells": [
  {
   "cell_type": "markdown",
   "metadata": {
    "slideshow": {
     "slide_type": "slide"
    }
   },
   "source": [
    "# The seminar so far....\n",
    "\n",
    "* Session 1: Data types and variables\n",
    "* Session 2: Lists and loops\n",
    "* Session 3: Command-line interface\n",
    "* Session 4: Functions and modules\n",
    "* Session 5: Files and objects\n",
    "* Session 6: Excel and tests\n",
    "* Session 7: Algorithms and runtimes\n",
    "* Session 8: Abstract data types"
   ]
  },
  {
   "cell_type": "markdown",
   "metadata": {
    "slideshow": {
     "slide_type": "subslide"
    }
   },
   "source": [
    "## Remaining sessions\n",
    "\n",
    "* Session 9: Network and the internet\n",
    "* Session 10: Project and Q&A"
   ]
  },
  {
   "cell_type": "markdown",
   "metadata": {
    "slideshow": {
     "slide_type": "slide"
    }
   },
   "source": [
    "## Learning outcomes\n",
    "\n",
    "* *analyse* a given, simple computational task \n",
    "* *test* the correctness of a piece of code\n",
    "* *write* program documentation\n",
    "* *reason* about the computational complexity of an algorithm\n",
    "* *express* functionality in terms of abstract data type or application programming interface\n",
    "* *use* text-based tools of program developement, including an editor and command-line tools"
   ]
  },
  {
   "cell_type": "markdown",
   "metadata": {
    "slideshow": {
     "slide_type": "subslide"
    }
   },
   "source": [
    "\n",
    "## Course content\n",
    "\n",
    "* Sequential execution, expression, selection, iteration, state, variable, assignment\n",
    "* String manipulation and text files\n",
    "* Testing and debugging\n",
    "* Stacks and queues, sorting\n",
    "* Worst-case running time\n",
    "* Abstract data types, types\n",
    "* Objects, classes"
   ]
  }
 ],
 "metadata": {
  "celltoolbar": "Slideshow",
  "kernelspec": {
   "display_name": "Python 3",
   "language": "python",
   "name": "python3"
  },
  "language_info": {
   "codemirror_mode": {
    "name": "ipython",
    "version": 3
   },
   "file_extension": ".py",
   "mimetype": "text/x-python",
   "name": "python",
   "nbconvert_exporter": "python",
   "pygments_lexer": "ipython3",
   "version": "3.6.3"
  }
 },
 "nbformat": 4,
 "nbformat_minor": 2
}
