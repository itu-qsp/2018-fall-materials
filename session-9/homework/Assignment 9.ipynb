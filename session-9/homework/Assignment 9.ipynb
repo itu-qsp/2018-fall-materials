{
 "cells": [
  {
   "cell_type": "markdown",
   "metadata": {},
   "source": [
    "# Assignment 9: Ismejeriet Simulator\n",
    "\n",
    "Let's write a simulation of Ismejeriet, the ice cream shop opposite ITU.\n",
    "\n",
    "The purpose of this assignment is to get more practice in writing classes and methods, i.e, object-oriented programs.\n",
    "\n",
    "In the assignments below you will implement the missing parts of the module `ismejeriet` (implicit that means in the file `ismejeriet.py`).\n",
    "The module defines two classes: `Customer` and `ShopAssistant`.\n",
    "\n",
    "**Note**: Even though you are asked to implement one class at the time, we *strongly* recommend you that you try to maintain a version of the code that *can run* without exceptions. In other words, try to keep the number of errors to a minimum by doing one sub-bullet, and then verify that the program doesn't crash when you press play in Mu. \n",
    "\n",
    "Write up each class in a separate file to make sure that your class works and behaves as expected. Add them to ismejeriet.py when you are sure they work individually. The simulation requires that your code is (mostly) complete and (mostly) correct before you run it. \n",
    "\n",
    "## A: The `Customer` Class\n",
    "\n",
    "  * A `Customer` shall have three methods. A constructor, i.e.,  `__init__`, one to tell the customer's name `say_name`, and one for choosing ice cream `choose_icecream`.\n",
    "  * Additionally, it has a property called `name`.\n",
    "  * Let the constructor receive an argument `gender`, so that you can create customer objects via `Customer('female')` or via `Customer('male')`.\n",
    "    - Depending on the given `gender` argument the `name` property is set to a female or to a male name.\n",
    "    - In case `gender` is neither `'female'` nor `'male'`, the `name` of the `Customer` object shall be set to `'Cookie Monster'`.\n",
    "    - Use the names of `us_names.py` to create random names.\n",
    "  * The method `say_name` shall only return the `name` of the `Customer` object and do nothing else. \n",
    "  * The method `choose_icecream` shall return a list of which ice cream the customer wants to order.\n",
    "    - The customer can choose from the following:\n",
    "    ```python\n",
    "    ['Strawberry', 'Chocolate', 'Vanilla', 'Sea Buckthorn', 'Lime', 'Mango']\n",
    "    ```\n",
    "    - A customer can choose between 1 to 5 balls of ice cream per item.\n",
    "    - Just like the customer name the order list is randomly generated. \n",
    "\n",
    "- *Hint:* before implementing any randomly generated orders or random names make sure that your code works with a fixed name and a fixed order. "
   ]
  },
  {
   "cell_type": "markdown",
   "metadata": {},
   "source": [
    "\n",
    "## B: The `ShopAssistant` Class\n",
    "  * A `ShopAssistant` shall have two methods. A constructor, i.e.,  `__init__`, and another one to serve ice cream `serve_icecream_to`.\n",
    "  * Additionally, the `ShopAssistant` class has a properties called `serving_speed`, `name`, and `busy`.\n",
    "    - The default value for `busy` is `False`\n",
    "    - The `name` can be any string of your liking\n",
    "  * Let the constructor receive an argument `speed`, which provides the value for the property `serving_speed` at object creation time. That is, you can create a `ShopAssistant` object via `ShopAssistant(2)` where the `serving_speed` is set to 2 then.\n",
    "  * The method `serve_icecream_to` shall receive a `Customer` object as argument. \n",
    "    - The `Customer` object shall be used within this method to ask it for the name and to let it choose ice cream via `customer.say_name()` and `customer.choose_icecream()` respectively.\n",
    "    - The property `busy` shall be set to true for the runtime of this method.\n",
    "    - The method takes some time. You can simulate serving time with the help of the `sleep` function from the `time` module.\n",
    "    - The time the method takes shall depend on how many ice cream has to be served and the serving speed of the shop assistant.\n",
    "    \n",
    "- *Hint:* this explanation is long and necessarily a bit confusing. It is not to be cruel - it is because there are many rules and conditions for this class. Read the assignment and re-write it in your own words before you start coding. Maybe even draw a little diagram if it helps you. "
   ]
  },
  {
   "cell_type": "markdown",
   "metadata": {},
   "source": [
    "\n",
    "## C: Reading a value from a configuration file\n",
    "\n",
    "Implement the function `get_queue_length_from_file` so that it returns the amount of customers in the queue from a corresponding configuration file.\n",
    "\n",
    "3 example configuration files are included: `queue1.txt`, `queue2.txt` and `queue3.txt`."
   ]
  },
  {
   "cell_type": "markdown",
   "metadata": {},
   "source": [
    "\n",
    "\n",
    "## D: Running the simulation\n",
    "\n",
    "Running your implementation of the simulation shall produce output similar to the following.\n",
    "\n",
    "```bash\n",
    "$ python ismejeriet.py\n",
    "I Devorah Nute, serve ['Mango', 'Lime', 'Vanilla', 'Chocolate'] to Cookie Monster.\n",
    "   --> It will take 8 seconds.\n",
    "9 customers left in queue\n",
    "I Devorah Nute, serve ['Sea Buckthorn', 'Vanilla', 'Lime'] to Alline Elizondo.\n",
    "   --> It will take 6 seconds.\n",
    "8 customers left in queue\n",
    "I Devorah Nute, serve ['Chocolate'] to Shirlene Kundrick.\n",
    "   --> It will take 2 seconds.\n",
    "7 customers left in queue\n",
    "I Devorah Nute, serve ['Sea Buckthorn', 'Vanilla', 'Strawberry', 'Vanilla', 'Chocolate'] to Cookie Monster.\n",
    "   --> It will take 10 seconds.\n",
    "6 customers left in queue\n",
    "I Devorah Nute, serve ['Vanilla', 'Strawberry'] to Cookie Monster.\n",
    "   --> It will take 4 seconds.\n",
    "5 customers left in queue\n",
    "I Devorah Nute, serve ['Lime', 'Vanilla', 'Mango', 'Sea Buckthorn'] to Juliette Voyles.\n",
    "   --> It will take 8 seconds.\n",
    "4 customers left in queue\n",
    "I Devorah Nute, serve ['Lime', 'Chocolate'] to Elmer Caivano.\n",
    "   --> It will take 4 seconds.\n",
    "3 customers left in queue\n",
    "I Devorah Nute, serve ['Vanilla', 'Lime'] to Cookie Monster.\n",
    "   --> It will take 4 seconds.\n",
    "2 customers left in queue\n",
    "I Devorah Nute, serve ['Lime', 'Mango'] to Taylor Denby.\n",
    "   --> It will take 4 seconds.\n",
    "1 customers left in queue\n",
    "I Devorah Nute, serve ['Lime', 'Chocolate', 'Sea Buckthorn', 'Vanilla'] to Cookie Monster.\n",
    "   --> It will take 8 seconds.\n",
    "0 customers left in queue\n",
    "```"
   ]
  }
 ],
 "metadata": {
  "kernelspec": {
   "display_name": "Python 3",
   "language": "python",
   "name": "python3"
  },
  "language_info": {
   "codemirror_mode": {
    "name": "ipython",
    "version": 3
   },
   "file_extension": ".py",
   "mimetype": "text/x-python",
   "name": "python",
   "nbconvert_exporter": "python",
   "pygments_lexer": "ipython3",
   "version": "3.6.6"
  }
 },
 "nbformat": 4,
 "nbformat_minor": 2
}
