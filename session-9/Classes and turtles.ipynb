{
 "cells": [
  {
   "cell_type": "markdown",
   "metadata": {
    "slideshow": {
     "slide_type": "slide"
    }
   },
   "source": [
    "## Why object-oriented programming\n",
    "\n",
    "* Cleaner code\n",
    "* Better abstractions\n",
    "* Easier to modify"
   ]
  },
  {
   "cell_type": "markdown",
   "metadata": {
    "slideshow": {
     "slide_type": "subslide"
    }
   },
   "source": [
    "## Classes and objects\n",
    "\n",
    "This is a class:\n",
    "```python\n",
    "class Cat:\n",
    "    \n",
    "    def sound(self):\n",
    "        print('Miaau')\n",
    "```\n",
    "\n",
    "This is an object:\n",
    "```python\n",
    "garfield = Cat()\n",
    "```"
   ]
  },
  {
   "cell_type": "markdown",
   "metadata": {
    "slideshow": {
     "slide_type": "subslide"
    }
   },
   "source": [
    "This is another object\n",
    "```python\n",
    "tom = Cat()\n",
    "```"
   ]
  },
  {
   "cell_type": "markdown",
   "metadata": {
    "slideshow": {
     "slide_type": "subslide"
    }
   },
   "source": [
    "## Properties are stored in the object"
   ]
  },
  {
   "cell_type": "code",
   "execution_count": 21,
   "metadata": {
    "slideshow": {
     "slide_type": "subslide"
    }
   },
   "outputs": [
    {
     "name": "stdout",
     "output_type": "stream",
     "text": [
      "I'm a keeper!\n",
      "Oups, don't buy me\n"
     ]
    }
   ],
   "source": [
    "class Cat:\n",
    "    def __init__(self, colour, number_of_legs):\n",
    "        self.colour = colour\n",
    "        self.number_of_legs = number_of_legs\n",
    "    def is_whole(self):\n",
    "        if self.number_of_legs != 4:\n",
    "            print('Oups, don\\'t buy me')\n",
    "        else:\n",
    "            print('I\\'m a keeper!')\n",
    "    def sound(self):\n",
    "        print('The ' + self.colour + ' cat miaus')\n",
    "garfield = Cat('orange', 4)\n",
    "garfield.is_whole()\n",
    "tom = Cat('grey',  3)\n",
    "tom.is_whole()"
   ]
  },
  {
   "cell_type": "markdown",
   "metadata": {
    "slideshow": {
     "slide_type": "subslide"
    }
   },
   "source": [
    "## What are classes?\n",
    "\n",
    "* Classes are templates containing:\n",
    "  - Properties (variables)\n",
    "  - Methods (functions)\n",
    "\n",
    "* Classes are useless before they are **instantiated**\n",
    "  - **A** `Cat` needs to concretise into **the** `Cat`"
   ]
  },
  {
   "cell_type": "code",
   "execution_count": 54,
   "metadata": {
    "slideshow": {
     "slide_type": "subslide"
    }
   },
   "outputs": [
    {
     "name": "stdout",
     "output_type": "stream",
     "text": [
      "Colour of cat 1: grey\n",
      "Colour of cat 2: grey\n"
     ]
    }
   ],
   "source": [
    "cat1 = Cat()\n",
    "cat2 = Cat()\n",
    "print('Colour of cat 1: ' + cat1.colour)\n",
    "print('Colour of cat 2: ' + cat2.colour)"
   ]
  },
  {
   "cell_type": "code",
   "execution_count": 55,
   "metadata": {
    "slideshow": {
     "slide_type": "fragment"
    }
   },
   "outputs": [
    {
     "name": "stdout",
     "output_type": "stream",
     "text": [
      "Colour of cat 1: grey\n",
      "Colour of cat 2: green\n"
     ]
    }
   ],
   "source": [
    "cat2.colour = 'green'\n",
    "print('Colour of cat 1: ' + cat1.colour)\n",
    "print('Colour of cat 2: ' + cat2.colour)"
   ]
  },
  {
   "cell_type": "markdown",
   "metadata": {
    "slideshow": {
     "slide_type": "subslide"
    }
   },
   "source": [
    "## The turtle class\n",
    "\n",
    "* The ``Turtle`` class contains methods to draw stuff"
   ]
  },
  {
   "cell_type": "code",
   "execution_count": 22,
   "metadata": {
    "slideshow": {
     "slide_type": "fragment"
    }
   },
   "outputs": [],
   "source": [
    "from turtle import Turtle\n",
    "\n",
    "eddy = Turtle()"
   ]
  },
  {
   "cell_type": "markdown",
   "metadata": {
    "slideshow": {
     "slide_type": "subslide"
    }
   },
   "source": [
    "## Exercise\n",
    "\n",
    "1. Create `eddy` the Turtle\n",
    "2. Make him move forward 100 units\n",
    "3. Create `melanie` the turtle\n",
    "4. Make `melanie` turn left"
   ]
  },
  {
   "cell_type": "code",
   "execution_count": null,
   "metadata": {},
   "outputs": [],
   "source": []
  },
  {
   "cell_type": "code",
   "execution_count": null,
   "metadata": {},
   "outputs": [],
   "source": []
  },
  {
   "cell_type": "markdown",
   "metadata": {
    "slideshow": {
     "slide_type": "subslide"
    }
   },
   "source": [
    "## Objects and classes\n",
    "\n",
    "* The `Turtle` definition is a **class**\n",
    "  * You didn't create that class\n",
    "* The turtles `eddy` and `brenda` are **objects**"
   ]
  },
  {
   "cell_type": "markdown",
   "metadata": {
    "slideshow": {
     "slide_type": "subslide"
    }
   },
   "source": [
    "## Making your own turtle class\n",
    "\n",
    "* You can create your own classes that **inherits** from other classes\n",
    "\n",
    "```python\n",
    "class MyTurtle(Turtle):\n",
    "    pass\n",
    "```\n",
    "\n",
    "* That means you can use all the same methods in ``MyTurtle`` as you saw in ``Turtle``"
   ]
  },
  {
   "cell_type": "markdown",
   "metadata": {
    "slideshow": {
     "slide_type": "subslide"
    }
   },
   "source": [
    "## Exercise\n",
    "1. Write your own class `MyTurtle` that inherits from `Turtle`. \n",
    "  * It should just `pass` for now\n",
    "2. Redefine `eddy` and `melanie` to be `MyTurtle` instances"
   ]
  },
  {
   "cell_type": "markdown",
   "metadata": {
    "slideshow": {
     "slide_type": "subslide"
    }
   },
   "source": [
    "## Exercise\n",
    "1. Implement the method `step()` that moves the turtle `forward()` 10 units\n",
    "2. Make both `eddy` and `melanie` move forward 10 units by using your `step()` method"
   ]
  },
  {
   "cell_type": "markdown",
   "metadata": {
    "slideshow": {
     "slide_type": "subslide"
    }
   },
   "source": [
    "## Properties are stored in the object"
   ]
  },
  {
   "cell_type": "code",
   "execution_count": null,
   "metadata": {
    "slideshow": {
     "slide_type": "subslide"
    }
   },
   "outputs": [],
   "source": [
    "class Cat:\n",
    "    def __init__(self):\n",
    "        self.colour = 'grey'\n",
    "    def sound(self):\n",
    "        print('The ' + self.colour + ' cat miaus')\n",
    "Cat().sound()"
   ]
  },
  {
   "cell_type": "markdown",
   "metadata": {
    "slideshow": {
     "slide_type": "subslide"
    }
   },
   "source": [
    "## Exercise: properties\n",
    "\n",
    "* You can set a turtle's colour using `color()`\n",
    "* Set the colour of both `eddy` and `melanie` to be `red` and `blue` respectively"
   ]
  }
 ],
 "metadata": {
  "celltoolbar": "Slideshow",
  "kernelspec": {
   "display_name": "Python 3",
   "language": "python",
   "name": "python3"
  },
  "language_info": {
   "codemirror_mode": {
    "name": "ipython",
    "version": 3
   },
   "file_extension": ".py",
   "mimetype": "text/x-python",
   "name": "python",
   "nbconvert_exporter": "python",
   "pygments_lexer": "ipython3",
   "version": "3.6.3"
  }
 },
 "nbformat": 4,
 "nbformat_minor": 2
}
