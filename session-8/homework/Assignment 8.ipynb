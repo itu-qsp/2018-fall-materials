{
 "cells": [
  {
   "cell_type": "markdown",
   "metadata": {},
   "source": [
    "# Assignment for Session 8"
   ]
  },
  {
   "cell_type": "markdown",
   "metadata": {},
   "source": [
    "## A: What is this code doing...?\n",
    "\n",
    "Copy and paste the following program into a file called `mysterious.py`.\n",
    "\n",
    "After typing it in, examine it's behaviour by step-wise execution in the debugger.\n",
    "  * Hint: set a breakpoint on line 2.\n",
    "  \n",
    "Hand in\n",
    "1. 2-4 lines describing what the program is actually doing\n",
    "2. The runtime complexity of the algorithm. Is it\n",
    "  1. Logarithmic\n",
    "  2. Linear\n",
    "  3. Quadratic\n",
    "  4. Qubic\n",
    "\n",
    "```python\n",
    "def mysterious_function(data_list):\n",
    "    for passnum in range(len(data_list) - 1, 0, -1):\n",
    "        for idx in range(passnum):\n",
    "            if data_list[idx] > data_list[idx + 1]:\n",
    "                temp = data_list[idx]\n",
    "                data_list[idx] = data_list[idx + 1]\n",
    "                data_list[idx + 1] = temp\n",
    "\n",
    "\n",
    "if __name__ == '__main__':\n",
    "    data = [54, 26, 93, 17, 77, 31, 44, 55, 20]\n",
    "    mysterious_function(data)\n",
    "    print(data)\n",
    "```"
   ]
  },
  {
   "cell_type": "markdown",
   "metadata": {},
   "source": [
    "\n",
    "## B: Write a Syntax Checker\n",
    "\n",
    "Write a command-line program `paren_checker.py`, which can check that parentheses in a Python program are balanced.\n",
    "\n",
    "Consider the program `my_erroneous_prg.py` in the `homework` directory. It contains a small Python program with an error. When running it with the following command it produces a syntax error, which you likely know from some of your earlier programs.\n",
    "\n",
    "```bash\n",
    "$ python my_erroneous_prg.py\n",
    "  File \"my_erroneous_prg.py\", line 3\n",
    "\n",
    "                   ^\n",
    "SyntaxError: unexpected EOF while parsing\n",
    "```\n",
    "\n",
    "In essence, this error tells you that there is a closing parenthesis missing.\n",
    "\n",
    "\n",
    "Write your command-line program `paren_checker.py` so that it receives a path to another Python program -the one to check- as a command-line argument. That is, you can call it as in the following:\n",
    "\n",
    "```bash\n",
    "$ python paren_checker.py my_erroneous_prg.py\n",
    "```\n",
    "\n",
    "Your program should produce a message like `I think all parenthesis are balanced.` in case of a correct program and another message like `Looks like you forgot to close some parenthesis...` in case of a missing parenthesis."
   ]
  },
  {
   "cell_type": "markdown",
   "metadata": {},
   "source": [
    "\n",
    "## C: Let the Syntax Checker Find All Parentheses Errors\n",
    "\n",
    "Make sure that your program produces the correct reply also when fed with the program `my_erroneous_prg2.py`, i.e., the following should say something like `You have are closing a parenthesis without opening one`, find `my_erroneous_prg2.py` in the `homework` directory.\n",
    "\n",
    "\n",
    "```bash\n",
    "$ python paren_checker.py my_erroneous_prg2.py\n",
    "```"
   ]
  },
  {
   "cell_type": "markdown",
   "metadata": {},
   "source": [
    "\n",
    "## D: Document the syntax checker\n",
    "\n",
    "Write a docstring for every function inside the `paren_checker.py` file. That is, all functions inside the file should be described with a docstring that at least describes the purpose of the function, the parameters and the return value.\n",
    "\n",
    "If you do not have a function in the file, now would be a good time to refactor (change) your code, such that there is at least one function in the file that can be documented.\n"
   ]
  }
 ],
 "metadata": {
  "kernelspec": {
   "display_name": "Python 3",
   "language": "python",
   "name": "python3"
  },
  "language_info": {
   "codemirror_mode": {
    "name": "ipython",
    "version": 3
   },
   "file_extension": ".py",
   "mimetype": "text/x-python",
   "name": "python",
   "nbconvert_exporter": "python",
   "pygments_lexer": "ipython3",
   "version": "3.6.3"
  }
 },
 "nbformat": 4,
 "nbformat_minor": 2
}
