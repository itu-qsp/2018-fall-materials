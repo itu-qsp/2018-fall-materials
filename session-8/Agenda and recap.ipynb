{
 "cells": [
  {
   "cell_type": "markdown",
   "metadata": {
    "slideshow": {
     "slide_type": "slide"
    }
   },
   "source": [
    "# The seminar so far....\n",
    "\n",
    "* Session 1: Data types and variables\n",
    "* Session 2: Lists and loops\n",
    "* Session 3: Command-line interface\n",
    "* Session 4: Functions and modules\n",
    "* Session 5: Files and objects\n",
    "* Session 6: Excel and tests\n",
    "* Session 7: Algorithms and runtimes"
   ]
  },
  {
   "cell_type": "markdown",
   "metadata": {
    "slideshow": {
     "slide_type": "subslide"
    }
   },
   "source": [
    "## Remaining sessions\n",
    "\n",
    "* Session 8: Abstract data types\n",
    "* Session 9: Network and the internet\n",
    "* Session 10: Project and Q&A"
   ]
  },
  {
   "cell_type": "markdown",
   "metadata": {
    "slideshow": {
     "slide_type": "subslide"
    }
   },
   "source": [
    "## Agenda\n",
    "\n",
    "* Recap on files\n",
    "* Recap on docstrings\n",
    "* Abstract data types\n",
    "* Assignment 8"
   ]
  },
  {
   "cell_type": "markdown",
   "metadata": {
    "slideshow": {
     "slide_type": "slide"
    }
   },
   "source": [
    "## Working with files\n",
    "\n",
    "* Files are simply just blocks of contents on your harddrive\n",
    "* They can be **read**, **written to**, **created** and **deleted**"
   ]
  },
  {
   "cell_type": "markdown",
   "metadata": {
    "slideshow": {
     "slide_type": "fragment"
    }
   },
   "source": [
    "* In Python you can do all of this!"
   ]
  },
  {
   "cell_type": "code",
   "execution_count": 1,
   "metadata": {
    "slideshow": {
     "slide_type": "fragment"
    }
   },
   "outputs": [],
   "source": [
    "important_file = 'sol-jegp/1.txt'"
   ]
  },
  {
   "cell_type": "markdown",
   "metadata": {
    "slideshow": {
     "slide_type": "subslide"
    }
   },
   "source": [
    "## Opening a file\n",
    "\n",
    "* Before operating on a file, it has to be opened\n",
    "  * This is completely equivalent to you opening \n",
    "  \n",
    "```python\n",
    "open(important_file)\n",
    "```"
   ]
  },
  {
   "cell_type": "markdown",
   "metadata": {
    "slideshow": {
     "slide_type": "fragment"
    }
   },
   "source": [
    "* This gives you a **pointer** to the top of the file\n",
    "  * ... But so far you have not done anything with/to the file"
   ]
  },
  {
   "cell_type": "markdown",
   "metadata": {
    "slideshow": {
     "slide_type": "fragment"
    }
   },
   "source": [
    "* Another problem is that I'm not doing anything with that pointer. It's not stored in a variable"
   ]
  },
  {
   "cell_type": "markdown",
   "metadata": {
    "slideshow": {
     "slide_type": "subslide"
    }
   },
   "source": [
    "## `open` argument flags\n",
    "\n",
    "Open can either\n",
    "\n",
    "* **create** or **write to** a file\n",
    "  * ```python\n",
    "       open(important_file, 'w')```\n",
    "* **read** from a file\n",
    "  * ```python\n",
    "       open(important_file, 'r')```"
   ]
  },
  {
   "cell_type": "code",
   "execution_count": 15,
   "metadata": {
    "slideshow": {
     "slide_type": "subslide"
    }
   },
   "outputs": [],
   "source": [
    "file_pointer = open('sol-jegp/1.txt', 'r')"
   ]
  },
  {
   "cell_type": "markdown",
   "metadata": {
    "slideshow": {
     "slide_type": "fragment"
    }
   },
   "source": [
    "* Write that into your code editor"
   ]
  },
  {
   "cell_type": "markdown",
   "metadata": {
    "slideshow": {
     "slide_type": "subslide"
    }
   },
   "source": [
    "## Reading from a file\n",
    "\n",
    "* Now that we have a **pointer** to the beginning of the file, we can read all the contents"
   ]
  },
  {
   "cell_type": "code",
   "execution_count": 16,
   "metadata": {
    "slideshow": {
     "slide_type": "fragment"
    }
   },
   "outputs": [
    {
     "data": {
      "text/plain": [
       "''"
      ]
     },
     "execution_count": 16,
     "metadata": {},
     "output_type": "execute_result"
    }
   ],
   "source": [
    "file_pointer.read()"
   ]
  },
  {
   "cell_type": "markdown",
   "metadata": {
    "slideshow": {
     "slide_type": "subslide"
    }
   },
   "source": [
    "| Function | Effect\n",
    "| --- | --- |\n",
    "| `read()` | Reads **all** the file content into **one** string |\n",
    "| `readlines()` | Reads **all** the file content into a **list** of lines |"
   ]
  },
  {
   "cell_type": "code",
   "execution_count": 24,
   "metadata": {
    "slideshow": {
     "slide_type": "fragment"
    }
   },
   "outputs": [
    {
     "data": {
      "text/plain": [
       "''"
      ]
     },
     "execution_count": 24,
     "metadata": {},
     "output_type": "execute_result"
    }
   ],
   "source": [
    "file_pointer = open('the_hound_of_the_baskervilles.txt')\n",
    "first_read = file_pointer.readlines()\n",
    "second_read = file_pointer.read()\n",
    "second_read"
   ]
  },
  {
   "cell_type": "markdown",
   "metadata": {
    "slideshow": {
     "slide_type": "subslide"
    }
   },
   "source": [
    "## Pointers gets old\n",
    "\n",
    "* When you read from a pointer, it *moves* inside the file\n",
    "\n",
    "* We need to get a new pointer when we want to start over"
   ]
  },
  {
   "cell_type": "markdown",
   "metadata": {
    "slideshow": {
     "slide_type": "subslide"
    }
   },
   "source": [
    "## Writing to a file\n",
    "\n",
    "* With a **new** pointer, we can put stuff into the file"
   ]
  },
  {
   "cell_type": "code",
   "execution_count": 28,
   "metadata": {
    "slideshow": {
     "slide_type": "fragment"
    }
   },
   "outputs": [],
   "source": [
    "file_pointer = open(important_file, 'w') # Don't forget the 'w' flag!"
   ]
  },
  {
   "cell_type": "code",
   "execution_count": 29,
   "metadata": {
    "slideshow": {
     "slide_type": "subslide"
    }
   },
   "outputs": [
    {
     "data": {
      "text/plain": [
       "11"
      ]
     },
     "execution_count": 29,
     "metadata": {},
     "output_type": "execute_result"
    }
   ],
   "source": [
    "file_pointer.write(\"Hello World\")"
   ]
  },
  {
   "cell_type": "code",
   "execution_count": 30,
   "metadata": {},
   "outputs": [
    {
     "data": {
      "text/plain": [
       "'Hello World'"
      ]
     },
     "execution_count": 30,
     "metadata": {},
     "output_type": "execute_result"
    }
   ],
   "source": [
    "file_pointer = open(important_file, 'r')\n",
    "file_pointer.read()"
   ]
  },
  {
   "cell_type": "markdown",
   "metadata": {
    "slideshow": {
     "slide_type": "subslide"
    }
   },
   "source": [
    "## Wait... what?!\n",
    "\n",
    "* The file was not saved. You did not **complete** the write.\n",
    "  * This is just like saving a file in Microsoft Word"
   ]
  },
  {
   "cell_type": "code",
   "execution_count": 31,
   "metadata": {
    "slideshow": {
     "slide_type": "subslide"
    }
   },
   "outputs": [],
   "source": [
    "file_pointer = open(important_file, 'w')\n",
    "file_pointer.write(\"Moomin troll\")\n",
    "file_pointer.close() # This means save!"
   ]
  },
  {
   "cell_type": "code",
   "execution_count": null,
   "metadata": {
    "slideshow": {
     "slide_type": "subslide"
    }
   },
   "outputs": [],
   "source": [
    "file_pointer = open(important_file, 'r')\n",
    "file_pointer.read()"
   ]
  },
  {
   "cell_type": "markdown",
   "metadata": {
    "slideshow": {
     "slide_type": "subslide"
    }
   },
   "source": [
    "## The `with` syntax\n",
    "\n",
    "* `with` is actually not necessary, but it\n",
    "  * Automatically saves changes (closes)\n",
    "  * Catches any errors that might occur"
   ]
  },
  {
   "cell_type": "code",
   "execution_count": 38,
   "metadata": {
    "slideshow": {
     "slide_type": "subslide"
    }
   },
   "outputs": [],
   "source": [
    "with open(important_file, 'w') as file_pointer:\n",
    "    file_pointer.write('Moomin Sniff')"
   ]
  },
  {
   "cell_type": "code",
   "execution_count": 39,
   "metadata": {
    "slideshow": {
     "slide_type": "fragment"
    }
   },
   "outputs": [
    {
     "name": "stdout",
     "output_type": "stream",
     "text": [
      "Moomin Sniff\n"
     ]
    }
   ],
   "source": [
    "with open(important_file, 'r') as file_pointer:\n",
    "    print(file_pointer.read())"
   ]
  },
  {
   "cell_type": "markdown",
   "metadata": {
    "slideshow": {
     "slide_type": "subslide"
    }
   },
   "source": [
    "## `open` argument flags\n",
    "\n",
    "Open can either\n",
    "\n",
    "* **create** or **write to** a file\n",
    "  * ```python\n",
    "       open(important_file, 'w')```\n",
    "* **read** from a file\n",
    "  * ```python\n",
    "       open(important_file, 'r')```\n",
    "* **append** to a file\n",
    "  * ```python\n",
    "       open(important_file, 'a')```"
   ]
  },
  {
   "cell_type": "code",
   "execution_count": 45,
   "metadata": {
    "slideshow": {
     "slide_type": "subslide"
    }
   },
   "outputs": [],
   "source": [
    "with open(important_file, 'a') as file_pointer:\n",
    "    file_pointer.write('Moomin My')"
   ]
  },
  {
   "cell_type": "code",
   "execution_count": 46,
   "metadata": {
    "slideshow": {
     "slide_type": "fragment"
    }
   },
   "outputs": [
    {
     "name": "stdout",
     "output_type": "stream",
     "text": [
      "Moomin SniffMoomin MyMoomin MyMoomin MyMoomin MyMoomin MyMoomin My\n"
     ]
    }
   ],
   "source": [
    "with open(important_file, 'r') as file_pointer:\n",
    "    print(file_pointer.read())"
   ]
  },
  {
   "cell_type": "code",
   "execution_count": null,
   "metadata": {
    "slideshow": {
     "slide_type": "subslide"
    }
   },
   "outputs": [],
   "source": [
    "with open(important_file, 'a') as file_pointer:\n",
    "    print('Moomin My', file = file_pointer)"
   ]
  },
  {
   "cell_type": "code",
   "execution_count": null,
   "metadata": {
    "slideshow": {
     "slide_type": "fragment"
    }
   },
   "outputs": [],
   "source": [
    "with open(important_file, 'r') as file_pointer:\n",
    "    print(file_pointer.read())"
   ]
  },
  {
   "cell_type": "markdown",
   "metadata": {
    "slideshow": {
     "slide_type": "subslide"
    }
   },
   "source": [
    "## Files in summary\n",
    "\n",
    "* Files can be **read** (`r`), **written to**/**created** (`w`) or **appended to** (`a`)\n",
    "* Use the `with open(..) as` syntax\n",
    "  * It saves changes automatically"
   ]
  },
  {
   "cell_type": "markdown",
   "metadata": {
    "slideshow": {
     "slide_type": "subslide"
    }
   },
   "source": [
    "## Your turn!\n",
    "\n",
    "* Go to GitHub and download the file `the_hound_of_the_baskervilles.txt` from session 8\n",
    "* Open it with a Python script (using the `with` notation)\n",
    "* Print the very last line of the story"
   ]
  },
  {
   "cell_type": "code",
   "execution_count": 48,
   "metadata": {
    "slideshow": {
     "slide_type": "subslide"
    }
   },
   "outputs": [
    {
     "name": "stdout",
     "output_type": "stream",
     "text": [
      "can stop at Marcini’s for a little dinner on the way?”\n",
      "\n"
     ]
    }
   ],
   "source": [
    "with open('the_hound_of_the_baskervilles.txt') as file_pointer:\n",
    "    line_list = file_pointer.readlines()\n",
    "    print(line_list[-1])"
   ]
  },
  {
   "cell_type": "markdown",
   "metadata": {
    "slideshow": {
     "slide_type": "slide"
    }
   },
   "source": [
    "# Some examples of what you can do now"
   ]
  },
  {
   "cell_type": "markdown",
   "metadata": {
    "slideshow": {
     "slide_type": "subslide"
    }
   },
   "source": [
    "## Downloading websites"
   ]
  },
  {
   "cell_type": "code",
   "execution_count": null,
   "metadata": {
    "slideshow": {
     "slide_type": "subslide"
    }
   },
   "outputs": [],
   "source": [
    "import urllib.request\n",
    "\n",
    "urllib.request.urlopen('https://wttr.in/Copenhagen').read()"
   ]
  },
  {
   "cell_type": "code",
   "execution_count": 55,
   "metadata": {
    "slideshow": {
     "slide_type": "fragment"
    }
   },
   "outputs": [],
   "source": [
    "import urllib\n",
    "\n",
    "with urllib.request.urlopen('https://wttr.in/Copenhagen') as content:\n",
    "    page_content = content.read()"
   ]
  },
  {
   "cell_type": "markdown",
   "metadata": {
    "slideshow": {
     "slide_type": "subslide"
    }
   },
   "source": [
    "## Parsing website contents"
   ]
  },
  {
   "cell_type": "code",
   "execution_count": 56,
   "metadata": {
    "slideshow": {
     "slide_type": "subslide"
    }
   },
   "outputs": [
    {
     "name": "stdout",
     "output_type": "stream",
     "text": [
      "<html>\n",
      "<head><title>Weather report: Copenhagen, Denmark</title><meta content=\"http://wttr.in/Copenhagen_0pq.png\" property=\"og:image\"/><meta content=\"wttr.in\" property=\"og:site_name\"/><meta content=\"profile\" property=\"og:type\"/><meta content=\"http://wttr.in/Copenhagen\" property=\"og:url\"/>\n",
      "<meta content=\"text/html; charset=utf-8\" http-equiv=\"Content-Type\"/>\n",
      "<link href=\"/files/style.css\" rel=\"stylesheet\" type=\"text/css\"/>\n",
      "<style type=\"text/css\">\n",
      ".ef0,.f0 { color: #073642; } .eb0,.b0 { background-color: #073642; }\n",
      ".ef1,.f1 { color: #D30102; } .eb1,.b1 { background-color: #D30102; }\n",
      ".ef2,.f2 { color: #859900; } .eb2,.b2 { background-color: #859900; }\n",
      ".ef3,.f3 { color: #B58900; } .eb3,.b3 { background-color: #B58900; }\n",
      ".ef4,.f4 { color: #268BD2; } .eb4,.b4 { background-color: #268BD2; }\n",
      ".ef5,.f5 { color: #D33682; } .eb5,.b5 { background-color: #D33682; }\n",
      ".ef6,.f6 { color: #2AA198; } .eb6,.b6 { background-color: #2AA198; }\n",
      ".ef7,.f7 { color: #EEE8D5; } .eb7,.b7 { background-color: #EEE8D5; }\n",
      ".ef8, .f0 > .bold,.bold > .f0 { color: #002B36; font-weight: normal; }\n",
      ".ef9, .f1 > .bold,.bold > .f1 { color: #CB4B16; font-weight: normal; }\n",
      ".ef10,.f2 > .bold,.bold > .f2 { color: #586E75; font-weight: normal; }\n",
      ".ef11,.f3 > .bold,.bold > .f3 { color: #657B83; font-weight: normal; }\n",
      ".ef12,.f4 > .bold,.bold > .f4 { color: #839496; font-weight: normal; }\n",
      ".ef13,.f5 > .bold,.bold > .f5 { color: #6C71C4; font-weight: normal; }\n",
      ".ef14,.f6 > .bold,.bold > .f6 { color: #93A1A1; font-weight: normal; }\n",
      ".ef15,.f7 > .bold,.bold > .f7 { color: #FDF6E3; font-weight: normal; }\n",
      ".eb8  { background-color: #002B36; }\n",
      ".eb9  { background-color: #CB4B16; }\n",
      ".eb10 { background-color: #586E75; }\n",
      ".eb11 { background-color: #657B83; }\n",
      ".eb12 { background-color: #839496; }\n",
      ".eb13 { background-color: #6C71C4; }\n",
      ".eb14 { background-color: #93A1A1; }\n",
      ".eb15 { background-color: #FDF6E3; }\n",
      ".ef16 { color: #000000; } .eb16 { background-color: #000000; }\n",
      ".ef17 { color: #00005f; } .eb17 { background-color: #00005f; }\n",
      ".ef18 { color: #000087; } .eb18 { background-color: #000087; }\n",
      ".ef19 { color: #0000af; } .eb19 { background-color: #0000af; }\n",
      ".ef20 { color: #0000d7; } .eb20 { background-color: #0000d7; }\n",
      ".ef21 { color: #0000ff; } .eb21 { background-color: #0000ff; }\n",
      ".ef22 { color: #005f00; } .eb22 { background-color: #005f00; }\n",
      ".ef23 { color: #005f5f; } .eb23 { background-color: #005f5f; }\n",
      ".ef24 { color: #005f87; } .eb24 { background-color: #005f87; }\n",
      ".ef25 { color: #005faf; } .eb25 { background-color: #005faf; }\n",
      ".ef26 { color: #005fd7; } .eb26 { background-color: #005fd7; }\n",
      ".ef27 { color: #005fff; } .eb27 { background-color: #005fff; }\n",
      ".ef28 { color: #008700; } .eb28 { background-color: #008700; }\n",
      ".ef29 { color: #00875f; } .eb29 { background-color: #00875f; }\n",
      ".ef30 { color: #008787; } .eb30 { background-color: #008787; }\n",
      ".ef31 { color: #0087af; } .eb31 { background-color: #0087af; }\n",
      ".ef32 { color: #0087d7; } .eb32 { background-color: #0087d7; }\n",
      ".ef33 { color: #0087ff; } .eb33 { background-color: #0087ff; }\n",
      ".ef34 { color: #00af00; } .eb34 { background-color: #00af00; }\n",
      ".ef35 { color: #00af5f; } .eb35 { background-color: #00af5f; }\n",
      ".ef36 { color: #00af87; } .eb36 { background-color: #00af87; }\n",
      ".ef37 { color: #00afaf; } .eb37 { background-color: #00afaf; }\n",
      ".ef38 { color: #00afd7; } .eb38 { background-color: #00afd7; }\n",
      ".ef39 { color: #00afff; } .eb39 { background-color: #00afff; }\n",
      ".ef40 { color: #00d700; } .eb40 { background-color: #00d700; }\n",
      ".ef41 { color: #00d75f; } .eb41 { background-color: #00d75f; }\n",
      ".ef42 { color: #00d787; } .eb42 { background-color: #00d787; }\n",
      ".ef43 { color: #00d7af; } .eb43 { background-color: #00d7af; }\n",
      ".ef44 { color: #00d7d7; } .eb44 { background-color: #00d7d7; }\n",
      ".ef45 { color: #00d7ff; } .eb45 { background-color: #00d7ff; }\n",
      ".ef46 { color: #00ff00; } .eb46 { background-color: #00ff00; }\n",
      ".ef47 { color: #00ff5f; } .eb47 { background-color: #00ff5f; }\n",
      ".ef48 { color: #00ff87; } .eb48 { background-color: #00ff87; }\n",
      ".ef49 { color: #00ffaf; } .eb49 { background-color: #00ffaf; }\n",
      ".ef50 { color: #00ffd7; } .eb50 { background-color: #00ffd7; }\n",
      ".ef51 { color: #00ffff; } .eb51 { background-color: #00ffff; }\n",
      ".ef52 { color: #5f0000; } .eb52 { background-color: #5f0000; }\n",
      ".ef53 { color: #5f005f; } .eb53 { background-color: #5f005f; }\n",
      ".ef54 { color: #5f0087; } .eb54 { background-color: #5f0087; }\n",
      ".ef55 { color: #5f00af; } .eb55 { background-color: #5f00af; }\n",
      ".ef56 { color: #5f00d7; } .eb56 { background-color: #5f00d7; }\n",
      ".ef57 { color: #5f00ff; } .eb57 { background-color: #5f00ff; }\n",
      ".ef58 { color: #5f5f00; } .eb58 { background-color: #5f5f00; }\n",
      ".ef59 { color: #5f5f5f; } .eb59 { background-color: #5f5f5f; }\n",
      ".ef60 { color: #5f5f87; } .eb60 { background-color: #5f5f87; }\n",
      ".ef61 { color: #5f5faf; } .eb61 { background-color: #5f5faf; }\n",
      ".ef62 { color: #5f5fd7; } .eb62 { background-color: #5f5fd7; }\n",
      ".ef63 { color: #5f5fff; } .eb63 { background-color: #5f5fff; }\n",
      ".ef64 { color: #5f8700; } .eb64 { background-color: #5f8700; }\n",
      ".ef65 { color: #5f875f; } .eb65 { background-color: #5f875f; }\n",
      ".ef66 { color: #5f8787; } .eb66 { background-color: #5f8787; }\n",
      ".ef67 { color: #5f87af; } .eb67 { background-color: #5f87af; }\n",
      ".ef68 { color: #5f87d7; } .eb68 { background-color: #5f87d7; }\n",
      ".ef69 { color: #5f87ff; } .eb69 { background-color: #5f87ff; }\n",
      ".ef70 { color: #5faf00; } .eb70 { background-color: #5faf00; }\n",
      ".ef71 { color: #5faf5f; } .eb71 { background-color: #5faf5f; }\n",
      ".ef72 { color: #5faf87; } .eb72 { background-color: #5faf87; }\n",
      ".ef73 { color: #5fafaf; } .eb73 { background-color: #5fafaf; }\n",
      ".ef74 { color: #5fafd7; } .eb74 { background-color: #5fafd7; }\n",
      ".ef75 { color: #5fafff; } .eb75 { background-color: #5fafff; }\n",
      ".ef76 { color: #5fd700; } .eb76 { background-color: #5fd700; }\n",
      ".ef77 { color: #5fd75f; } .eb77 { background-color: #5fd75f; }\n",
      ".ef78 { color: #5fd787; } .eb78 { background-color: #5fd787; }\n",
      ".ef79 { color: #5fd7af; } .eb79 { background-color: #5fd7af; }\n",
      ".ef80 { color: #5fd7d7; } .eb80 { background-color: #5fd7d7; }\n",
      ".ef81 { color: #5fd7ff; } .eb81 { background-color: #5fd7ff; }\n",
      ".ef82 { color: #5fff00; } .eb82 { background-color: #5fff00; }\n",
      ".ef83 { color: #5fff5f; } .eb83 { background-color: #5fff5f; }\n",
      ".ef84 { color: #5fff87; } .eb84 { background-color: #5fff87; }\n",
      ".ef85 { color: #5fffaf; } .eb85 { background-color: #5fffaf; }\n",
      ".ef86 { color: #5fffd7; } .eb86 { background-color: #5fffd7; }\n",
      ".ef87 { color: #5fffff; } .eb87 { background-color: #5fffff; }\n",
      ".ef88 { color: #870000; } .eb88 { background-color: #870000; }\n",
      ".ef89 { color: #87005f; } .eb89 { background-color: #87005f; }\n",
      ".ef90 { color: #870087; } .eb90 { background-color: #870087; }\n",
      ".ef91 { color: #8700af; } .eb91 { background-color: #8700af; }\n",
      ".ef92 { color: #8700d7; } .eb92 { background-color: #8700d7; }\n",
      ".ef93 { color: #8700ff; } .eb93 { background-color: #8700ff; }\n",
      ".ef94 { color: #875f00; } .eb94 { background-color: #875f00; }\n",
      ".ef95 { color: #875f5f; } .eb95 { background-color: #875f5f; }\n",
      ".ef96 { color: #875f87; } .eb96 { background-color: #875f87; }\n",
      ".ef97 { color: #875faf; } .eb97 { background-color: #875faf; }\n",
      ".ef98 { color: #875fd7; } .eb98 { background-color: #875fd7; }\n",
      ".ef99 { color: #875fff; } .eb99 { background-color: #875fff; }\n",
      ".ef100 { color: #878700; } .eb100 { background-color: #878700; }\n",
      ".ef101 { color: #87875f; } .eb101 { background-color: #87875f; }\n",
      ".ef102 { color: #878787; } .eb102 { background-color: #878787; }\n",
      ".ef103 { color: #8787af; } .eb103 { background-color: #8787af; }\n",
      ".ef104 { color: #8787d7; } .eb104 { background-color: #8787d7; }\n",
      ".ef105 { color: #8787ff; } .eb105 { background-color: #8787ff; }\n",
      ".ef106 { color: #87af00; } .eb106 { background-color: #87af00; }\n",
      ".ef107 { color: #87af5f; } .eb107 { background-color: #87af5f; }\n",
      ".ef108 { color: #87af87; } .eb108 { background-color: #87af87; }\n",
      ".ef109 { color: #87afaf; } .eb109 { background-color: #87afaf; }\n",
      ".ef110 { color: #87afd7; } .eb110 { background-color: #87afd7; }\n",
      ".ef111 { color: #87afff; } .eb111 { background-color: #87afff; }\n",
      ".ef112 { color: #87d700; } .eb112 { background-color: #87d700; }\n",
      ".ef113 { color: #87d75f; } .eb113 { background-color: #87d75f; }\n",
      ".ef114 { color: #87d787; } .eb114 { background-color: #87d787; }\n",
      ".ef115 { color: #87d7af; } .eb115 { background-color: #87d7af; }\n",
      ".ef116 { color: #87d7d7; } .eb116 { background-color: #87d7d7; }\n",
      ".ef117 { color: #87d7ff; } .eb117 { background-color: #87d7ff; }\n",
      ".ef118 { color: #87ff00; } .eb118 { background-color: #87ff00; }\n",
      ".ef119 { color: #87ff5f; } .eb119 { background-color: #87ff5f; }\n",
      ".ef120 { color: #87ff87; } .eb120 { background-color: #87ff87; }\n",
      ".ef121 { color: #87ffaf; } .eb121 { background-color: #87ffaf; }\n",
      ".ef122 { color: #87ffd7; } .eb122 { background-color: #87ffd7; }\n",
      ".ef123 { color: #87ffff; } .eb123 { background-color: #87ffff; }\n",
      ".ef124 { color: #af0000; } .eb124 { background-color: #af0000; }\n",
      ".ef125 { color: #af005f; } .eb125 { background-color: #af005f; }\n",
      ".ef126 { color: #af0087; } .eb126 { background-color: #af0087; }\n",
      ".ef127 { color: #af00af; } .eb127 { background-color: #af00af; }\n",
      ".ef128 { color: #af00d7; } .eb128 { background-color: #af00d7; }\n",
      ".ef129 { color: #af00ff; } .eb129 { background-color: #af00ff; }\n",
      ".ef130 { color: #af5f00; } .eb130 { background-color: #af5f00; }\n",
      ".ef131 { color: #af5f5f; } .eb131 { background-color: #af5f5f; }\n",
      ".ef132 { color: #af5f87; } .eb132 { background-color: #af5f87; }\n",
      ".ef133 { color: #af5faf; } .eb133 { background-color: #af5faf; }\n",
      ".ef134 { color: #af5fd7; } .eb134 { background-color: #af5fd7; }\n",
      ".ef135 { color: #af5fff; } .eb135 { background-color: #af5fff; }\n",
      ".ef136 { color: #af8700; } .eb136 { background-color: #af8700; }\n",
      ".ef137 { color: #af875f; } .eb137 { background-color: #af875f; }\n",
      ".ef138 { color: #af8787; } .eb138 { background-color: #af8787; }\n",
      ".ef139 { color: #af87af; } .eb139 { background-color: #af87af; }\n",
      ".ef140 { color: #af87d7; } .eb140 { background-color: #af87d7; }\n",
      ".ef141 { color: #af87ff; } .eb141 { background-color: #af87ff; }\n",
      ".ef142 { color: #afaf00; } .eb142 { background-color: #afaf00; }\n",
      ".ef143 { color: #afaf5f; } .eb143 { background-color: #afaf5f; }\n",
      ".ef144 { color: #afaf87; } .eb144 { background-color: #afaf87; }\n",
      ".ef145 { color: #afafaf; } .eb145 { background-color: #afafaf; }\n",
      ".ef146 { color: #afafd7; } .eb146 { background-color: #afafd7; }\n",
      ".ef147 { color: #afafff; } .eb147 { background-color: #afafff; }\n",
      ".ef148 { color: #afd700; } .eb148 { background-color: #afd700; }\n",
      ".ef149 { color: #afd75f; } .eb149 { background-color: #afd75f; }\n",
      ".ef150 { color: #afd787; } .eb150 { background-color: #afd787; }\n",
      ".ef151 { color: #afd7af; } .eb151 { background-color: #afd7af; }\n",
      ".ef152 { color: #afd7d7; } .eb152 { background-color: #afd7d7; }\n",
      ".ef153 { color: #afd7ff; } .eb153 { background-color: #afd7ff; }\n",
      ".ef154 { color: #afff00; } .eb154 { background-color: #afff00; }\n",
      ".ef155 { color: #afff5f; } .eb155 { background-color: #afff5f; }\n",
      ".ef156 { color: #afff87; } .eb156 { background-color: #afff87; }\n",
      ".ef157 { color: #afffaf; } .eb157 { background-color: #afffaf; }\n",
      ".ef158 { color: #afffd7; } .eb158 { background-color: #afffd7; }\n",
      ".ef159 { color: #afffff; } .eb159 { background-color: #afffff; }\n",
      ".ef160 { color: #d70000; } .eb160 { background-color: #d70000; }\n",
      ".ef161 { color: #d7005f; } .eb161 { background-color: #d7005f; }\n",
      ".ef162 { color: #d70087; } .eb162 { background-color: #d70087; }\n",
      ".ef163 { color: #d700af; } .eb163 { background-color: #d700af; }\n",
      ".ef164 { color: #d700d7; } .eb164 { background-color: #d700d7; }\n",
      ".ef165 { color: #d700ff; } .eb165 { background-color: #d700ff; }\n",
      ".ef166 { color: #d75f00; } .eb166 { background-color: #d75f00; }\n",
      ".ef167 { color: #d75f5f; } .eb167 { background-color: #d75f5f; }\n",
      ".ef168 { color: #d75f87; } .eb168 { background-color: #d75f87; }\n",
      ".ef169 { color: #d75faf; } .eb169 { background-color: #d75faf; }\n",
      ".ef170 { color: #d75fd7; } .eb170 { background-color: #d75fd7; }\n",
      ".ef171 { color: #d75fff; } .eb171 { background-color: #d75fff; }\n",
      ".ef172 { color: #d78700; } .eb172 { background-color: #d78700; }\n",
      ".ef173 { color: #d7875f; } .eb173 { background-color: #d7875f; }\n",
      ".ef174 { color: #d78787; } .eb174 { background-color: #d78787; }\n",
      ".ef175 { color: #d787af; } .eb175 { background-color: #d787af; }\n",
      ".ef176 { color: #d787d7; } .eb176 { background-color: #d787d7; }\n",
      ".ef177 { color: #d787ff; } .eb177 { background-color: #d787ff; }\n",
      ".ef178 { color: #d7af00; } .eb178 { background-color: #d7af00; }\n",
      ".ef179 { color: #d7af5f; } .eb179 { background-color: #d7af5f; }\n",
      ".ef180 { color: #d7af87; } .eb180 { background-color: #d7af87; }\n",
      ".ef181 { color: #d7afaf; } .eb181 { background-color: #d7afaf; }\n",
      ".ef182 { color: #d7afd7; } .eb182 { background-color: #d7afd7; }\n",
      ".ef183 { color: #d7afff; } .eb183 { background-color: #d7afff; }\n",
      ".ef184 { color: #d7d700; } .eb184 { background-color: #d7d700; }\n",
      ".ef185 { color: #d7d75f; } .eb185 { background-color: #d7d75f; }\n",
      ".ef186 { color: #d7d787; } .eb186 { background-color: #d7d787; }\n",
      ".ef187 { color: #d7d7af; } .eb187 { background-color: #d7d7af; }\n",
      ".ef188 { color: #d7d7d7; } .eb188 { background-color: #d7d7d7; }\n",
      ".ef189 { color: #d7d7ff; } .eb189 { background-color: #d7d7ff; }\n",
      ".ef190 { color: #d7ff00; } .eb190 { background-color: #d7ff00; }\n",
      ".ef191 { color: #d7ff5f; } .eb191 { background-color: #d7ff5f; }\n",
      ".ef192 { color: #d7ff87; } .eb192 { background-color: #d7ff87; }\n",
      ".ef193 { color: #d7ffaf; } .eb193 { background-color: #d7ffaf; }\n",
      ".ef194 { color: #d7ffd7; } .eb194 { background-color: #d7ffd7; }\n",
      ".ef195 { color: #d7ffff; } .eb195 { background-color: #d7ffff; }\n",
      ".ef196 { color: #ff0000; } .eb196 { background-color: #ff0000; }\n",
      ".ef197 { color: #ff005f; } .eb197 { background-color: #ff005f; }\n",
      ".ef198 { color: #ff0087; } .eb198 { background-color: #ff0087; }\n",
      ".ef199 { color: #ff00af; } .eb199 { background-color: #ff00af; }\n",
      ".ef200 { color: #ff00d7; } .eb200 { background-color: #ff00d7; }\n",
      ".ef201 { color: #ff00ff; } .eb201 { background-color: #ff00ff; }\n",
      ".ef202 { color: #ff5f00; } .eb202 { background-color: #ff5f00; }\n",
      ".ef203 { color: #ff5f5f; } .eb203 { background-color: #ff5f5f; }\n",
      ".ef204 { color: #ff5f87; } .eb204 { background-color: #ff5f87; }\n",
      ".ef205 { color: #ff5faf; } .eb205 { background-color: #ff5faf; }\n",
      ".ef206 { color: #ff5fd7; } .eb206 { background-color: #ff5fd7; }\n",
      ".ef207 { color: #ff5fff; } .eb207 { background-color: #ff5fff; }\n",
      ".ef208 { color: #ff8700; } .eb208 { background-color: #ff8700; }\n",
      ".ef209 { color: #ff875f; } .eb209 { background-color: #ff875f; }\n",
      ".ef210 { color: #ff8787; } .eb210 { background-color: #ff8787; }\n",
      ".ef211 { color: #ff87af; } .eb211 { background-color: #ff87af; }\n",
      ".ef212 { color: #ff87d7; } .eb212 { background-color: #ff87d7; }\n",
      ".ef213 { color: #ff87ff; } .eb213 { background-color: #ff87ff; }\n",
      ".ef214 { color: #ffaf00; } .eb214 { background-color: #ffaf00; }\n",
      ".ef215 { color: #ffaf5f; } .eb215 { background-color: #ffaf5f; }\n",
      ".ef216 { color: #ffaf87; } .eb216 { background-color: #ffaf87; }\n",
      ".ef217 { color: #ffafaf; } .eb217 { background-color: #ffafaf; }\n",
      ".ef218 { color: #ffafd7; } .eb218 { background-color: #ffafd7; }\n",
      ".ef219 { color: #ffafff; } .eb219 { background-color: #ffafff; }\n",
      ".ef220 { color: #ffd700; } .eb220 { background-color: #ffd700; }\n",
      ".ef221 { color: #ffd75f; } .eb221 { background-color: #ffd75f; }\n",
      ".ef222 { color: #ffd787; } .eb222 { background-color: #ffd787; }\n",
      ".ef223 { color: #ffd7af; } .eb223 { background-color: #ffd7af; }\n",
      ".ef224 { color: #ffd7d7; } .eb224 { background-color: #ffd7d7; }\n",
      ".ef225 { color: #ffd7ff; } .eb225 { background-color: #ffd7ff; }\n",
      ".ef226 { color: #ffff00; } .eb226 { background-color: #ffff00; }\n",
      ".ef227 { color: #ffff5f; } .eb227 { background-color: #ffff5f; }\n",
      ".ef228 { color: #ffff87; } .eb228 { background-color: #ffff87; }\n",
      ".ef229 { color: #ffffaf; } .eb229 { background-color: #ffffaf; }\n",
      ".ef230 { color: #ffffd7; } .eb230 { background-color: #ffffd7; }\n",
      ".ef231 { color: #ffffff; } .eb231 { background-color: #ffffff; }\n",
      ".ef232 { color: #080808; } .eb232 { background-color: #080808; }\n",
      ".ef233 { color: #121212; } .eb233 { background-color: #121212; }\n",
      ".ef234 { color: #1c1c1c; } .eb234 { background-color: #1c1c1c; }\n",
      ".ef235 { color: #262626; } .eb235 { background-color: #262626; }\n",
      ".ef236 { color: #303030; } .eb236 { background-color: #303030; }\n",
      ".ef237 { color: #3a3a3a; } .eb237 { background-color: #3a3a3a; }\n",
      ".ef238 { color: #444444; } .eb238 { background-color: #444444; }\n",
      ".ef239 { color: #4e4e4e; } .eb239 { background-color: #4e4e4e; }\n",
      ".ef240 { color: #585858; } .eb240 { background-color: #585858; }\n",
      ".ef241 { color: #626262; } .eb241 { background-color: #626262; }\n",
      ".ef242 { color: #6c6c6c; } .eb242 { background-color: #6c6c6c; }\n",
      ".ef243 { color: #767676; } .eb243 { background-color: #767676; }\n",
      ".ef244 { color: #808080; } .eb244 { background-color: #808080; }\n",
      ".ef245 { color: #8a8a8a; } .eb245 { background-color: #8a8a8a; }\n",
      ".ef246 { color: #949494; } .eb246 { background-color: #949494; }\n",
      ".ef247 { color: #9e9e9e; } .eb247 { background-color: #9e9e9e; }\n",
      ".ef248 { color: #a8a8a8; } .eb248 { background-color: #a8a8a8; }\n",
      ".ef249 { color: #b2b2b2; } .eb249 { background-color: #b2b2b2; }\n",
      ".ef250 { color: #bcbcbc; } .eb250 { background-color: #bcbcbc; }\n",
      ".ef251 { color: #c6c6c6; } .eb251 { background-color: #c6c6c6; }\n",
      ".ef252 { color: #d0d0d0; } .eb252 { background-color: #d0d0d0; }\n",
      ".ef253 { color: #dadada; } .eb253 { background-color: #dadada; }\n",
      ".ef254 { color: #e4e4e4; } .eb254 { background-color: #e4e4e4; }\n",
      ".ef255 { color: #eeeeee; } .eb255 { background-color: #eeeeee; }\n",
      "\n",
      ".f9 { color: #EEE8D5; }\n",
      ".b9 { background-color: #073642; }\n",
      ".f9 > .bold,.bold > .f9, body.f9 > pre > .bold {\n",
      "  /* Bold is heavy black on white, or bright white\n",
      "     depending on the default background */\n",
      "  color: #FDF6E3;\n",
      "  font-weight: normal;\n",
      "}\n",
      ".reverse {\n",
      "  /* CSS does not support swapping fg and bg colours unfortunately,\n",
      "     so just hardcode something that will look OK on all backgrounds. */\n",
      "  color: #073642; background-color: #EEE8D5;\n",
      "}\n",
      ".underline { text-decoration: underline; }\n",
      ".line-through { text-decoration: line-through; }\n",
      ".blink { text-decoration: blink; }\n",
      "\n",
      "/* Avoid pixels between adjacent span elements.\n",
      "   Note this only works for lines less than 80 chars\n",
      "   where we close span elements on the same line.\n",
      "span { display: inline-block; }\n",
      "*/\n",
      "</style>\n",
      "</head>\n",
      "<body class=\"\">\n",
      "<pre>\n",
      "Weather report: Copenhagen, Denmark\n",
      "\n",
      " <span class=\"ef226\">    \\   /    </span> Clear\n",
      " <span class=\"ef226\">     .-.     </span> <span class=\"ef082\">11</span>-<span class=\"ef118\">13</span> °C       \n",
      " <span class=\"ef226\">  ― (   ) ―  </span> <span class=\"bold\">↖</span> <span class=\"ef208\">26</span> km/h      \n",
      " <span class=\"ef226\">     `-’     </span> 10 km          \n",
      " <span class=\"ef226\">    /   \\    </span> 0.1 mm         \n",
      "                                                       ┌─────────────┐                                                       \n",
      "┌──────────────────────────────┬───────────────────────┤  Tue 30 Oct ├───────────────────────┬──────────────────────────────┐\n",
      "│            Morning           │             Noon      └──────┬──────┘     Evening           │             Night            │\n",
      "├──────────────────────────────┼──────────────────────────────┼──────────────────────────────┼──────────────────────────────┤\n",
      "│               Overcast       │ <span class=\"ef250\">     .-.     </span> Light drizzle  │ <span class=\"ef226\"> _`/\"\"<span class=\"ef250\">.-.    </span></span> Patchy rain po…│ <span class=\"ef226\">   \\  /</span>       Partly cloudy  │\n",
      "│ <span class=\"f8\"><span class=\"blink\"><span class=\"bold\">     .--.    </span></span></span> <span class=\"ef046\">8</span>-<span class=\"ef082\">12</span> °C        │ <span class=\"ef250\">    (   ).   </span> <span class=\"ef082\">10</span>-<span class=\"ef118\">13</span> °C       │ <span class=\"ef226\">  ,\\_<span class=\"ef250\">(   ).  </span></span> <span class=\"ef082\">10</span>-<span class=\"ef082\">12</span> °C       │ <span class=\"ef226\"> _ /\"\"<span class=\"ef250\">.-.    </span></span> <span class=\"ef046\">8</span>-<span class=\"ef082\">11</span> °C        │\n",
      "│ <span class=\"f8\"><span class=\"blink\"><span class=\"bold\">  .-(    ).  </span></span></span> <span class=\"bold\">←</span> <span class=\"ef196\">42</span>-<span class=\"ef196\">73</span> km/h   │ <span class=\"ef250\">   (___(__)  </span> <span class=\"bold\">↖</span> <span class=\"ef196\">37</span>-<span class=\"ef196\">70</span> km/h   │ <span class=\"ef226\">   /<span class=\"ef250\">(___(__) </span></span> <span class=\"bold\">↑</span> <span class=\"ef208\">24</span>-<span class=\"ef196\">46</span> km/h   │ <span class=\"ef226\">   \\_<span class=\"ef250\">(   ).  </span></span> <span class=\"bold\">↑</span> <span class=\"ef208\">27</span>-<span class=\"ef196\">45</span> km/h   │\n",
      "│ <span class=\"f8\"><span class=\"blink\"><span class=\"bold\"> (___.__)__) </span></span></span> 9 km           │ <span class=\"ef111\">    ‘ ‘ ‘ ‘  </span> 8 km           │ <span class=\"ef111\">     ‘ ‘ ‘ ‘ </span> 16 km          │ <span class=\"ef226\">   /<span class=\"ef250\">(___(__) </span></span> 19 km          │\n",
      "│               0.2 mm | 66%   │ <span class=\"ef111\">   ‘ ‘ ‘ ‘   </span> 0.1 mm | 33%   │ <span class=\"ef111\">    ‘ ‘ ‘ ‘  </span> 0.1 mm | 27%   │               0.0 mm | 0%    │\n",
      "└──────────────────────────────┴──────────────────────────────┴──────────────────────────────┴──────────────────────────────┘\n",
      "                                                       ┌─────────────┐                                                       \n",
      "┌──────────────────────────────┬───────────────────────┤  Wed 31 Oct ├───────────────────────┬──────────────────────────────┐\n",
      "│            Morning           │             Noon      └──────┬──────┘     Evening           │             Night            │\n",
      "├──────────────────────────────┼──────────────────────────────┼──────────────────────────────┼──────────────────────────────┤\n",
      "│ <span class=\"ef250\">     .-.     </span> Light rain     │ <span class=\"ef226\"> _`/\"\"<span class=\"ef250\">.-.    </span></span> Patchy rain po…│ <span class=\"ef226\">   \\  /</span>       Partly cloudy  │ <span class=\"ef226\">   \\  /</span>       Partly cloudy  │\n",
      "│ <span class=\"ef250\">    (   ).   </span> <span class=\"ef047\">7</span>-<span class=\"ef082\">11</span> °C        │ <span class=\"ef226\">  ,\\_<span class=\"ef250\">(   ).  </span></span> <span class=\"ef047\">7</span>-<span class=\"ef082\">10</span> °C        │ <span class=\"ef226\"> _ /\"\"<span class=\"ef250\">.-.    </span></span> <span class=\"ef047\">7</span>-<span class=\"ef082\">10</span> °C        │ <span class=\"ef226\"> _ /\"\"<span class=\"ef250\">.-.    </span></span> <span class=\"ef047\">7</span>-<span class=\"ef082\">10</span> °C        │\n",
      "│ <span class=\"ef250\">   (___(__)  </span> <span class=\"bold\">↗</span> <span class=\"ef196\">44</span>-<span class=\"ef196\">68</span> km/h   │ <span class=\"ef226\">   /<span class=\"ef250\">(___(__) </span></span> <span class=\"bold\">↗</span> <span class=\"ef196\">38</span>-<span class=\"ef196\">57</span> km/h   │ <span class=\"ef226\">   \\_<span class=\"ef250\">(   ).  </span></span> <span class=\"bold\">↑</span> <span class=\"ef214\">20</span>-<span class=\"ef202\">29</span> km/h   │ <span class=\"ef226\">   \\_<span class=\"ef250\">(   ).  </span></span> <span class=\"bold\">↑</span> <span class=\"ef226\">15</span>-<span class=\"ef214\">23</span> km/h   │\n",
      "│ <span class=\"ef111\">    ‘ ‘ ‘ ‘  </span> 17 km          │ <span class=\"ef111\">     ‘ ‘ ‘ ‘ </span> 18 km          │ <span class=\"ef226\">   /<span class=\"ef250\">(___(__) </span></span> 18 km          │ <span class=\"ef226\">   /<span class=\"ef250\">(___(__) </span></span> 19 km          │\n",
      "│ <span class=\"ef111\">   ‘ ‘ ‘ ‘   </span> 0.4 mm | 84%   │ <span class=\"ef111\">    ‘ ‘ ‘ ‘  </span> 0.0 mm | 29%   │               0.0 mm | 0%    │               0.0 mm | 0%    │\n",
      "└──────────────────────────────┴──────────────────────────────┴──────────────────────────────┴──────────────────────────────┘\n",
      "                                                       ┌─────────────┐                                                       \n",
      "┌──────────────────────────────┬───────────────────────┤  Thu 01 Nov ├───────────────────────┬──────────────────────────────┐\n",
      "│            Morning           │             Noon      └──────┬──────┘     Evening           │             Night            │\n",
      "├──────────────────────────────┼──────────────────────────────┼──────────────────────────────┼──────────────────────────────┤\n",
      "│ <span class=\"ef226\">   \\  /</span>       Partly cloudy  │ <span class=\"ef226\">   \\  /</span>       Partly cloudy  │               Overcast       │ <span class=\"ef226\">   \\  /</span>       Partly cloudy  │\n",
      "│ <span class=\"ef226\"> _ /\"\"<span class=\"ef250\">.-.    </span></span> <span class=\"ef047\">7</span>-<span class=\"ef082\">10</span> °C        │ <span class=\"ef226\"> _ /\"\"<span class=\"ef250\">.-.    </span></span> <span class=\"ef046\">8</span>-<span class=\"ef082\">11</span> °C        │ <span class=\"f8\"><span class=\"blink\"><span class=\"bold\">     .--.    </span></span></span> <span class=\"ef046\">8</span>-<span class=\"ef082\">10</span> °C        │ <span class=\"ef226\"> _ /\"\"<span class=\"ef250\">.-.    </span></span> <span class=\"ef047\">7</span> °C           │\n",
      "│ <span class=\"ef226\">   \\_<span class=\"ef250\">(   ).  </span></span> <span class=\"bold\">←</span> <span class=\"ef214\">23</span>-<span class=\"ef196\">36</span> km/h   │ <span class=\"ef226\">   \\_<span class=\"ef250\">(   ).  </span></span> <span class=\"bold\">←</span> <span class=\"ef214\">23</span>-<span class=\"ef196\">36</span> km/h   │ <span class=\"f8\"><span class=\"blink\"><span class=\"bold\">  .-(    ).  </span></span></span> <span class=\"bold\">←</span> <span class=\"ef214\">21</span>-<span class=\"ef196\">35</span> km/h   │ <span class=\"ef226\">   \\_<span class=\"ef250\">(   ).  </span></span> <span class=\"bold\">←</span> <span class=\"ef220\">17</span>-<span class=\"ef202\">30</span> km/h   │\n",
      "│ <span class=\"ef226\">   /<span class=\"ef250\">(___(__) </span></span> 20 km          │ <span class=\"ef226\">   /<span class=\"ef250\">(___(__) </span></span> 20 km          │ <span class=\"f8\"><span class=\"blink\"><span class=\"bold\"> (___.__)__) </span></span></span> 20 km          │ <span class=\"ef226\">   /<span class=\"ef250\">(___(__) </span></span> 20 km          │\n",
      "│               0.0 mm | 0%    │               0.0 mm | 0%    │               0.0 mm | 0%    │               0.0 mm | 0%    │\n",
      "└──────────────────────────────┴──────────────────────────────┴──────────────────────────────┴──────────────────────────────┘\n",
      "</pre>\n",
      "<a class=\"twitter-follow-button\" data-button=\"grey\" data-show-count=\"false\" href=\"https://twitter.com/igor_chubin\">Follow @igor_chubin</a>\n",
      "<script>!function(d,s,id){var js,fjs=d.getElementsByTagName(s)[0],p=/^http:/.test(d.location)?'http':'https';if(!d.getElementById(id)){js=d.createElement(s);js.id=id;js.src=p+'://platform.twitter.com/widgets.js';fjs.parentNode.insertBefore(js,fjs);}}(document, 'script', 'twitter-wjs');</script>\n",
      "<!-- Place this tag where you want the button to render. -->\n",
      "<a aria-label=\"Star chubin/wttr.in on GitHub\" class=\"github-button\" data-count-api=\"/repos/chubin/wttr.in#stargazers_count\" data-count-aria-label=\"# stargazers on GitHub\" data-count-href=\"/chubin/wttr.in/stargazers\" data-icon=\"octicon-star\" href=\"https://github.com/chubin/wttr.in\">wttr.in</a>\n",
      "<!-- Place this tag where you want the button to render. -->\n",
      "<a aria-label=\"Star chubin/pyphoon on GitHub\" class=\"github-button\" data-count-api=\"/repos/chubin/pyphoon#stargazers_count\" data-count-aria-label=\"# stargazers on GitHub\" data-count-href=\"/chubin/pyphoon/stargazers\" data-icon=\"octicon-star\" href=\"https://github.com/chubin/pyphoon\">pyphoon</a>\n",
      "<!-- Place this tag where you want the button to render. -->\n",
      "<a aria-label=\"Star schachmat/wego on GitHub\" class=\"github-button\" data-count-api=\"/repos/schachmat/wego#stargazers_count\" data-count-aria-label=\"# stargazers on GitHub\" data-count-href=\"/schachmat/wego/stargazers\" data-icon=\"octicon-star\" href=\"https://github.com/schachmat/wego\">wego</a>\n",
      "<!-- Place this tag right after the last button or just before your close body tag. -->\n",
      "<script async=\"\" defer=\"\" id=\"github-bjs\" src=\"https://buttons.github.io/buttons.js\"></script>\n",
      "</body>\n",
      "</html>\n",
      "\n"
     ]
    }
   ],
   "source": [
    "from bs4 import BeautifulSoup\n",
    "soup = BeautifulSoup(page_content)\n",
    "print(soup)"
   ]
  },
  {
   "cell_type": "code",
   "execution_count": 60,
   "metadata": {
    "slideshow": {
     "slide_type": "subslide"
    }
   },
   "outputs": [
    {
     "name": "stdout",
     "output_type": "stream",
     "text": [
      "b'\\nWeather report: Copenhagen, Denmark\\n\\n <span class=\"ef226\">    \\\\   /    </span> Clear\\n <span class=\"ef226\">     .-.     </span> <span class=\"ef082\">11</span>-<span class=\"ef118\">13</span> \\xc2\\xb0C       \\n <span class=\"ef226\">  \\xe2\\x80\\x95 (   ) \\xe2\\x80\\x95  </span> <span class=\"bold\">\\xe2\\x86\\x96</span> <span class=\"ef208\">26</span> km/h      \\n <span class=\"ef226\">     `-\\xe2\\x80\\x99     </span> 10 km          \\n <span class=\"ef226\">    /   \\\\    </span> 0.1 mm         \\n                                                       \\xe2\\x94\\x8c\\xe2\\x94\\x80\\xe2\\x94\\x80\\xe2\\x94\\x80\\xe2\\x94\\x80\\xe2\\x94\\x80\\xe2\\x94\\x80\\xe2\\x94\\x80\\xe2\\x94\\x80\\xe2\\x94\\x80\\xe2\\x94\\x80\\xe2\\x94\\x80\\xe2\\x94\\x80\\xe2\\x94\\x80\\xe2\\x94\\x90                                                       \\n\\xe2\\x94\\x8c\\xe2\\x94\\x80\\xe2\\x94\\x80\\xe2\\x94\\x80\\xe2\\x94\\x80\\xe2\\x94\\x80\\xe2\\x94\\x80\\xe2\\x94\\x80\\xe2\\x94\\x80\\xe2\\x94\\x80\\xe2\\x94\\x80\\xe2\\x94\\x80\\xe2\\x94\\x80\\xe2\\x94\\x80\\xe2\\x94\\x80\\xe2\\x94\\x80\\xe2\\x94\\x80\\xe2\\x94\\x80\\xe2\\x94\\x80\\xe2\\x94\\x80\\xe2\\x94\\x80\\xe2\\x94\\x80\\xe2\\x94\\x80\\xe2\\x94\\x80\\xe2\\x94\\x80\\xe2\\x94\\x80\\xe2\\x94\\x80\\xe2\\x94\\x80\\xe2\\x94\\x80\\xe2\\x94\\x80\\xe2\\x94\\x80\\xe2\\x94\\xac\\xe2\\x94\\x80\\xe2\\x94\\x80\\xe2\\x94\\x80\\xe2\\x94\\x80\\xe2\\x94\\x80\\xe2\\x94\\x80\\xe2\\x94\\x80\\xe2\\x94\\x80\\xe2\\x94\\x80\\xe2\\x94\\x80\\xe2\\x94\\x80\\xe2\\x94\\x80\\xe2\\x94\\x80\\xe2\\x94\\x80\\xe2\\x94\\x80\\xe2\\x94\\x80\\xe2\\x94\\x80\\xe2\\x94\\x80\\xe2\\x94\\x80\\xe2\\x94\\x80\\xe2\\x94\\x80\\xe2\\x94\\x80\\xe2\\x94\\x80\\xe2\\x94\\xa4  Tue 30 Oct \\xe2\\x94\\x9c\\xe2\\x94\\x80\\xe2\\x94\\x80\\xe2\\x94\\x80\\xe2\\x94\\x80\\xe2\\x94\\x80\\xe2\\x94\\x80\\xe2\\x94\\x80\\xe2\\x94\\x80\\xe2\\x94\\x80\\xe2\\x94\\x80\\xe2\\x94\\x80\\xe2\\x94\\x80\\xe2\\x94\\x80\\xe2\\x94\\x80\\xe2\\x94\\x80\\xe2\\x94\\x80\\xe2\\x94\\x80\\xe2\\x94\\x80\\xe2\\x94\\x80\\xe2\\x94\\x80\\xe2\\x94\\x80\\xe2\\x94\\x80\\xe2\\x94\\x80\\xe2\\x94\\xac\\xe2\\x94\\x80\\xe2\\x94\\x80\\xe2\\x94\\x80\\xe2\\x94\\x80\\xe2\\x94\\x80\\xe2\\x94\\x80\\xe2\\x94\\x80\\xe2\\x94\\x80\\xe2\\x94\\x80\\xe2\\x94\\x80\\xe2\\x94\\x80\\xe2\\x94\\x80\\xe2\\x94\\x80\\xe2\\x94\\x80\\xe2\\x94\\x80\\xe2\\x94\\x80\\xe2\\x94\\x80\\xe2\\x94\\x80\\xe2\\x94\\x80\\xe2\\x94\\x80\\xe2\\x94\\x80\\xe2\\x94\\x80\\xe2\\x94\\x80\\xe2\\x94\\x80\\xe2\\x94\\x80\\xe2\\x94\\x80\\xe2\\x94\\x80\\xe2\\x94\\x80\\xe2\\x94\\x80\\xe2\\x94\\x80\\xe2\\x94\\x90\\n\\xe2\\x94\\x82            Morning           \\xe2\\x94\\x82             Noon      \\xe2\\x94\\x94\\xe2\\x94\\x80\\xe2\\x94\\x80\\xe2\\x94\\x80\\xe2\\x94\\x80\\xe2\\x94\\x80\\xe2\\x94\\x80\\xe2\\x94\\xac\\xe2\\x94\\x80\\xe2\\x94\\x80\\xe2\\x94\\x80\\xe2\\x94\\x80\\xe2\\x94\\x80\\xe2\\x94\\x80\\xe2\\x94\\x98     Evening           \\xe2\\x94\\x82             Night            \\xe2\\x94\\x82\\n\\xe2\\x94\\x9c\\xe2\\x94\\x80\\xe2\\x94\\x80\\xe2\\x94\\x80\\xe2\\x94\\x80\\xe2\\x94\\x80\\xe2\\x94\\x80\\xe2\\x94\\x80\\xe2\\x94\\x80\\xe2\\x94\\x80\\xe2\\x94\\x80\\xe2\\x94\\x80\\xe2\\x94\\x80\\xe2\\x94\\x80\\xe2\\x94\\x80\\xe2\\x94\\x80\\xe2\\x94\\x80\\xe2\\x94\\x80\\xe2\\x94\\x80\\xe2\\x94\\x80\\xe2\\x94\\x80\\xe2\\x94\\x80\\xe2\\x94\\x80\\xe2\\x94\\x80\\xe2\\x94\\x80\\xe2\\x94\\x80\\xe2\\x94\\x80\\xe2\\x94\\x80\\xe2\\x94\\x80\\xe2\\x94\\x80\\xe2\\x94\\x80\\xe2\\x94\\xbc\\xe2\\x94\\x80\\xe2\\x94\\x80\\xe2\\x94\\x80\\xe2\\x94\\x80\\xe2\\x94\\x80\\xe2\\x94\\x80\\xe2\\x94\\x80\\xe2\\x94\\x80\\xe2\\x94\\x80\\xe2\\x94\\x80\\xe2\\x94\\x80\\xe2\\x94\\x80\\xe2\\x94\\x80\\xe2\\x94\\x80\\xe2\\x94\\x80\\xe2\\x94\\x80\\xe2\\x94\\x80\\xe2\\x94\\x80\\xe2\\x94\\x80\\xe2\\x94\\x80\\xe2\\x94\\x80\\xe2\\x94\\x80\\xe2\\x94\\x80\\xe2\\x94\\x80\\xe2\\x94\\x80\\xe2\\x94\\x80\\xe2\\x94\\x80\\xe2\\x94\\x80\\xe2\\x94\\x80\\xe2\\x94\\x80\\xe2\\x94\\xbc\\xe2\\x94\\x80\\xe2\\x94\\x80\\xe2\\x94\\x80\\xe2\\x94\\x80\\xe2\\x94\\x80\\xe2\\x94\\x80\\xe2\\x94\\x80\\xe2\\x94\\x80\\xe2\\x94\\x80\\xe2\\x94\\x80\\xe2\\x94\\x80\\xe2\\x94\\x80\\xe2\\x94\\x80\\xe2\\x94\\x80\\xe2\\x94\\x80\\xe2\\x94\\x80\\xe2\\x94\\x80\\xe2\\x94\\x80\\xe2\\x94\\x80\\xe2\\x94\\x80\\xe2\\x94\\x80\\xe2\\x94\\x80\\xe2\\x94\\x80\\xe2\\x94\\x80\\xe2\\x94\\x80\\xe2\\x94\\x80\\xe2\\x94\\x80\\xe2\\x94\\x80\\xe2\\x94\\x80\\xe2\\x94\\x80\\xe2\\x94\\xbc\\xe2\\x94\\x80\\xe2\\x94\\x80\\xe2\\x94\\x80\\xe2\\x94\\x80\\xe2\\x94\\x80\\xe2\\x94\\x80\\xe2\\x94\\x80\\xe2\\x94\\x80\\xe2\\x94\\x80\\xe2\\x94\\x80\\xe2\\x94\\x80\\xe2\\x94\\x80\\xe2\\x94\\x80\\xe2\\x94\\x80\\xe2\\x94\\x80\\xe2\\x94\\x80\\xe2\\x94\\x80\\xe2\\x94\\x80\\xe2\\x94\\x80\\xe2\\x94\\x80\\xe2\\x94\\x80\\xe2\\x94\\x80\\xe2\\x94\\x80\\xe2\\x94\\x80\\xe2\\x94\\x80\\xe2\\x94\\x80\\xe2\\x94\\x80\\xe2\\x94\\x80\\xe2\\x94\\x80\\xe2\\x94\\x80\\xe2\\x94\\xa4\\n\\xe2\\x94\\x82               Overcast       \\xe2\\x94\\x82 <span class=\"ef250\">     .-.     </span> Light drizzle  \\xe2\\x94\\x82 <span class=\"ef226\"> _`/\"\"<span class=\"ef250\">.-.    </span></span> Patchy rain po\\xe2\\x80\\xa6\\xe2\\x94\\x82 <span class=\"ef226\">   \\\\  /</span>       Partly cloudy  \\xe2\\x94\\x82\\n\\xe2\\x94\\x82 <span class=\"f8\"><span class=\"blink\"><span class=\"bold\">     .--.    </span></span></span> <span class=\"ef046\">8</span>-<span class=\"ef082\">12</span> \\xc2\\xb0C        \\xe2\\x94\\x82 <span class=\"ef250\">    (   ).   </span> <span class=\"ef082\">10</span>-<span class=\"ef118\">13</span> \\xc2\\xb0C       \\xe2\\x94\\x82 <span class=\"ef226\">  ,\\\\_<span class=\"ef250\">(   ).  </span></span> <span class=\"ef082\">10</span>-<span class=\"ef082\">12</span> \\xc2\\xb0C       \\xe2\\x94\\x82 <span class=\"ef226\"> _ /\"\"<span class=\"ef250\">.-.    </span></span> <span class=\"ef046\">8</span>-<span class=\"ef082\">11</span> \\xc2\\xb0C        \\xe2\\x94\\x82\\n\\xe2\\x94\\x82 <span class=\"f8\"><span class=\"blink\"><span class=\"bold\">  .-(    ).  </span></span></span> <span class=\"bold\">\\xe2\\x86\\x90</span> <span class=\"ef196\">42</span>-<span class=\"ef196\">73</span> km/h   \\xe2\\x94\\x82 <span class=\"ef250\">   (___(__)  </span> <span class=\"bold\">\\xe2\\x86\\x96</span> <span class=\"ef196\">37</span>-<span class=\"ef196\">70</span> km/h   \\xe2\\x94\\x82 <span class=\"ef226\">   /<span class=\"ef250\">(___(__) </span></span> <span class=\"bold\">\\xe2\\x86\\x91</span> <span class=\"ef208\">24</span>-<span class=\"ef196\">46</span> km/h   \\xe2\\x94\\x82 <span class=\"ef226\">   \\\\_<span class=\"ef250\">(   ).  </span></span> <span class=\"bold\">\\xe2\\x86\\x91</span> <span class=\"ef208\">27</span>-<span class=\"ef196\">45</span> km/h   \\xe2\\x94\\x82\\n\\xe2\\x94\\x82 <span class=\"f8\"><span class=\"blink\"><span class=\"bold\"> (___.__)__) </span></span></span> 9 km           \\xe2\\x94\\x82 <span class=\"ef111\">    \\xe2\\x80\\x98 \\xe2\\x80\\x98 \\xe2\\x80\\x98 \\xe2\\x80\\x98  </span> 8 km           \\xe2\\x94\\x82 <span class=\"ef111\">     \\xe2\\x80\\x98 \\xe2\\x80\\x98 \\xe2\\x80\\x98 \\xe2\\x80\\x98 </span> 16 km          \\xe2\\x94\\x82 <span class=\"ef226\">   /<span class=\"ef250\">(___(__) </span></span> 19 km          \\xe2\\x94\\x82\\n\\xe2\\x94\\x82               0.2 mm | 66%   \\xe2\\x94\\x82 <span class=\"ef111\">   \\xe2\\x80\\x98 \\xe2\\x80\\x98 \\xe2\\x80\\x98 \\xe2\\x80\\x98   </span> 0.1 mm | 33%   \\xe2\\x94\\x82 <span class=\"ef111\">    \\xe2\\x80\\x98 \\xe2\\x80\\x98 \\xe2\\x80\\x98 \\xe2\\x80\\x98  </span> 0.1 mm | 27%   \\xe2\\x94\\x82               0.0 mm | 0%    \\xe2\\x94\\x82\\n\\xe2\\x94\\x94\\xe2\\x94\\x80\\xe2\\x94\\x80\\xe2\\x94\\x80\\xe2\\x94\\x80\\xe2\\x94\\x80\\xe2\\x94\\x80\\xe2\\x94\\x80\\xe2\\x94\\x80\\xe2\\x94\\x80\\xe2\\x94\\x80\\xe2\\x94\\x80\\xe2\\x94\\x80\\xe2\\x94\\x80\\xe2\\x94\\x80\\xe2\\x94\\x80\\xe2\\x94\\x80\\xe2\\x94\\x80\\xe2\\x94\\x80\\xe2\\x94\\x80\\xe2\\x94\\x80\\xe2\\x94\\x80\\xe2\\x94\\x80\\xe2\\x94\\x80\\xe2\\x94\\x80\\xe2\\x94\\x80\\xe2\\x94\\x80\\xe2\\x94\\x80\\xe2\\x94\\x80\\xe2\\x94\\x80\\xe2\\x94\\x80\\xe2\\x94\\xb4\\xe2\\x94\\x80\\xe2\\x94\\x80\\xe2\\x94\\x80\\xe2\\x94\\x80\\xe2\\x94\\x80\\xe2\\x94\\x80\\xe2\\x94\\x80\\xe2\\x94\\x80\\xe2\\x94\\x80\\xe2\\x94\\x80\\xe2\\x94\\x80\\xe2\\x94\\x80\\xe2\\x94\\x80\\xe2\\x94\\x80\\xe2\\x94\\x80\\xe2\\x94\\x80\\xe2\\x94\\x80\\xe2\\x94\\x80\\xe2\\x94\\x80\\xe2\\x94\\x80\\xe2\\x94\\x80\\xe2\\x94\\x80\\xe2\\x94\\x80\\xe2\\x94\\x80\\xe2\\x94\\x80\\xe2\\x94\\x80\\xe2\\x94\\x80\\xe2\\x94\\x80\\xe2\\x94\\x80\\xe2\\x94\\x80\\xe2\\x94\\xb4\\xe2\\x94\\x80\\xe2\\x94\\x80\\xe2\\x94\\x80\\xe2\\x94\\x80\\xe2\\x94\\x80\\xe2\\x94\\x80\\xe2\\x94\\x80\\xe2\\x94\\x80\\xe2\\x94\\x80\\xe2\\x94\\x80\\xe2\\x94\\x80\\xe2\\x94\\x80\\xe2\\x94\\x80\\xe2\\x94\\x80\\xe2\\x94\\x80\\xe2\\x94\\x80\\xe2\\x94\\x80\\xe2\\x94\\x80\\xe2\\x94\\x80\\xe2\\x94\\x80\\xe2\\x94\\x80\\xe2\\x94\\x80\\xe2\\x94\\x80\\xe2\\x94\\x80\\xe2\\x94\\x80\\xe2\\x94\\x80\\xe2\\x94\\x80\\xe2\\x94\\x80\\xe2\\x94\\x80\\xe2\\x94\\x80\\xe2\\x94\\xb4\\xe2\\x94\\x80\\xe2\\x94\\x80\\xe2\\x94\\x80\\xe2\\x94\\x80\\xe2\\x94\\x80\\xe2\\x94\\x80\\xe2\\x94\\x80\\xe2\\x94\\x80\\xe2\\x94\\x80\\xe2\\x94\\x80\\xe2\\x94\\x80\\xe2\\x94\\x80\\xe2\\x94\\x80\\xe2\\x94\\x80\\xe2\\x94\\x80\\xe2\\x94\\x80\\xe2\\x94\\x80\\xe2\\x94\\x80\\xe2\\x94\\x80\\xe2\\x94\\x80\\xe2\\x94\\x80\\xe2\\x94\\x80\\xe2\\x94\\x80\\xe2\\x94\\x80\\xe2\\x94\\x80\\xe2\\x94\\x80\\xe2\\x94\\x80\\xe2\\x94\\x80\\xe2\\x94\\x80\\xe2\\x94\\x80\\xe2\\x94\\x98\\n                                                       \\xe2\\x94\\x8c\\xe2\\x94\\x80\\xe2\\x94\\x80\\xe2\\x94\\x80\\xe2\\x94\\x80\\xe2\\x94\\x80\\xe2\\x94\\x80\\xe2\\x94\\x80\\xe2\\x94\\x80\\xe2\\x94\\x80\\xe2\\x94\\x80\\xe2\\x94\\x80\\xe2\\x94\\x80\\xe2\\x94\\x80\\xe2\\x94\\x90                                                       \\n\\xe2\\x94\\x8c\\xe2\\x94\\x80\\xe2\\x94\\x80\\xe2\\x94\\x80\\xe2\\x94\\x80\\xe2\\x94\\x80\\xe2\\x94\\x80\\xe2\\x94\\x80\\xe2\\x94\\x80\\xe2\\x94\\x80\\xe2\\x94\\x80\\xe2\\x94\\x80\\xe2\\x94\\x80\\xe2\\x94\\x80\\xe2\\x94\\x80\\xe2\\x94\\x80\\xe2\\x94\\x80\\xe2\\x94\\x80\\xe2\\x94\\x80\\xe2\\x94\\x80\\xe2\\x94\\x80\\xe2\\x94\\x80\\xe2\\x94\\x80\\xe2\\x94\\x80\\xe2\\x94\\x80\\xe2\\x94\\x80\\xe2\\x94\\x80\\xe2\\x94\\x80\\xe2\\x94\\x80\\xe2\\x94\\x80\\xe2\\x94\\x80\\xe2\\x94\\xac\\xe2\\x94\\x80\\xe2\\x94\\x80\\xe2\\x94\\x80\\xe2\\x94\\x80\\xe2\\x94\\x80\\xe2\\x94\\x80\\xe2\\x94\\x80\\xe2\\x94\\x80\\xe2\\x94\\x80\\xe2\\x94\\x80\\xe2\\x94\\x80\\xe2\\x94\\x80\\xe2\\x94\\x80\\xe2\\x94\\x80\\xe2\\x94\\x80\\xe2\\x94\\x80\\xe2\\x94\\x80\\xe2\\x94\\x80\\xe2\\x94\\x80\\xe2\\x94\\x80\\xe2\\x94\\x80\\xe2\\x94\\x80\\xe2\\x94\\x80\\xe2\\x94\\xa4  Wed 31 Oct \\xe2\\x94\\x9c\\xe2\\x94\\x80\\xe2\\x94\\x80\\xe2\\x94\\x80\\xe2\\x94\\x80\\xe2\\x94\\x80\\xe2\\x94\\x80\\xe2\\x94\\x80\\xe2\\x94\\x80\\xe2\\x94\\x80\\xe2\\x94\\x80\\xe2\\x94\\x80\\xe2\\x94\\x80\\xe2\\x94\\x80\\xe2\\x94\\x80\\xe2\\x94\\x80\\xe2\\x94\\x80\\xe2\\x94\\x80\\xe2\\x94\\x80\\xe2\\x94\\x80\\xe2\\x94\\x80\\xe2\\x94\\x80\\xe2\\x94\\x80\\xe2\\x94\\x80\\xe2\\x94\\xac\\xe2\\x94\\x80\\xe2\\x94\\x80\\xe2\\x94\\x80\\xe2\\x94\\x80\\xe2\\x94\\x80\\xe2\\x94\\x80\\xe2\\x94\\x80\\xe2\\x94\\x80\\xe2\\x94\\x80\\xe2\\x94\\x80\\xe2\\x94\\x80\\xe2\\x94\\x80\\xe2\\x94\\x80\\xe2\\x94\\x80\\xe2\\x94\\x80\\xe2\\x94\\x80\\xe2\\x94\\x80\\xe2\\x94\\x80\\xe2\\x94\\x80\\xe2\\x94\\x80\\xe2\\x94\\x80\\xe2\\x94\\x80\\xe2\\x94\\x80\\xe2\\x94\\x80\\xe2\\x94\\x80\\xe2\\x94\\x80\\xe2\\x94\\x80\\xe2\\x94\\x80\\xe2\\x94\\x80\\xe2\\x94\\x80\\xe2\\x94\\x90\\n\\xe2\\x94\\x82            Morning           \\xe2\\x94\\x82             Noon      \\xe2\\x94\\x94\\xe2\\x94\\x80\\xe2\\x94\\x80\\xe2\\x94\\x80\\xe2\\x94\\x80\\xe2\\x94\\x80\\xe2\\x94\\x80\\xe2\\x94\\xac\\xe2\\x94\\x80\\xe2\\x94\\x80\\xe2\\x94\\x80\\xe2\\x94\\x80\\xe2\\x94\\x80\\xe2\\x94\\x80\\xe2\\x94\\x98     Evening           \\xe2\\x94\\x82             Night            \\xe2\\x94\\x82\\n\\xe2\\x94\\x9c\\xe2\\x94\\x80\\xe2\\x94\\x80\\xe2\\x94\\x80\\xe2\\x94\\x80\\xe2\\x94\\x80\\xe2\\x94\\x80\\xe2\\x94\\x80\\xe2\\x94\\x80\\xe2\\x94\\x80\\xe2\\x94\\x80\\xe2\\x94\\x80\\xe2\\x94\\x80\\xe2\\x94\\x80\\xe2\\x94\\x80\\xe2\\x94\\x80\\xe2\\x94\\x80\\xe2\\x94\\x80\\xe2\\x94\\x80\\xe2\\x94\\x80\\xe2\\x94\\x80\\xe2\\x94\\x80\\xe2\\x94\\x80\\xe2\\x94\\x80\\xe2\\x94\\x80\\xe2\\x94\\x80\\xe2\\x94\\x80\\xe2\\x94\\x80\\xe2\\x94\\x80\\xe2\\x94\\x80\\xe2\\x94\\x80\\xe2\\x94\\xbc\\xe2\\x94\\x80\\xe2\\x94\\x80\\xe2\\x94\\x80\\xe2\\x94\\x80\\xe2\\x94\\x80\\xe2\\x94\\x80\\xe2\\x94\\x80\\xe2\\x94\\x80\\xe2\\x94\\x80\\xe2\\x94\\x80\\xe2\\x94\\x80\\xe2\\x94\\x80\\xe2\\x94\\x80\\xe2\\x94\\x80\\xe2\\x94\\x80\\xe2\\x94\\x80\\xe2\\x94\\x80\\xe2\\x94\\x80\\xe2\\x94\\x80\\xe2\\x94\\x80\\xe2\\x94\\x80\\xe2\\x94\\x80\\xe2\\x94\\x80\\xe2\\x94\\x80\\xe2\\x94\\x80\\xe2\\x94\\x80\\xe2\\x94\\x80\\xe2\\x94\\x80\\xe2\\x94\\x80\\xe2\\x94\\x80\\xe2\\x94\\xbc\\xe2\\x94\\x80\\xe2\\x94\\x80\\xe2\\x94\\x80\\xe2\\x94\\x80\\xe2\\x94\\x80\\xe2\\x94\\x80\\xe2\\x94\\x80\\xe2\\x94\\x80\\xe2\\x94\\x80\\xe2\\x94\\x80\\xe2\\x94\\x80\\xe2\\x94\\x80\\xe2\\x94\\x80\\xe2\\x94\\x80\\xe2\\x94\\x80\\xe2\\x94\\x80\\xe2\\x94\\x80\\xe2\\x94\\x80\\xe2\\x94\\x80\\xe2\\x94\\x80\\xe2\\x94\\x80\\xe2\\x94\\x80\\xe2\\x94\\x80\\xe2\\x94\\x80\\xe2\\x94\\x80\\xe2\\x94\\x80\\xe2\\x94\\x80\\xe2\\x94\\x80\\xe2\\x94\\x80\\xe2\\x94\\x80\\xe2\\x94\\xbc\\xe2\\x94\\x80\\xe2\\x94\\x80\\xe2\\x94\\x80\\xe2\\x94\\x80\\xe2\\x94\\x80\\xe2\\x94\\x80\\xe2\\x94\\x80\\xe2\\x94\\x80\\xe2\\x94\\x80\\xe2\\x94\\x80\\xe2\\x94\\x80\\xe2\\x94\\x80\\xe2\\x94\\x80\\xe2\\x94\\x80\\xe2\\x94\\x80\\xe2\\x94\\x80\\xe2\\x94\\x80\\xe2\\x94\\x80\\xe2\\x94\\x80\\xe2\\x94\\x80\\xe2\\x94\\x80\\xe2\\x94\\x80\\xe2\\x94\\x80\\xe2\\x94\\x80\\xe2\\x94\\x80\\xe2\\x94\\x80\\xe2\\x94\\x80\\xe2\\x94\\x80\\xe2\\x94\\x80\\xe2\\x94\\x80\\xe2\\x94\\xa4\\n\\xe2\\x94\\x82 <span class=\"ef250\">     .-.     </span> Light rain     \\xe2\\x94\\x82 <span class=\"ef226\"> _`/\"\"<span class=\"ef250\">.-.    </span></span> Patchy rain po\\xe2\\x80\\xa6\\xe2\\x94\\x82 <span class=\"ef226\">   \\\\  /</span>       Partly cloudy  \\xe2\\x94\\x82 <span class=\"ef226\">   \\\\  /</span>       Partly cloudy  \\xe2\\x94\\x82\\n\\xe2\\x94\\x82 <span class=\"ef250\">    (   ).   </span> <span class=\"ef047\">7</span>-<span class=\"ef082\">11</span> \\xc2\\xb0C        \\xe2\\x94\\x82 <span class=\"ef226\">  ,\\\\_<span class=\"ef250\">(   ).  </span></span> <span class=\"ef047\">7</span>-<span class=\"ef082\">10</span> \\xc2\\xb0C        \\xe2\\x94\\x82 <span class=\"ef226\"> _ /\"\"<span class=\"ef250\">.-.    </span></span> <span class=\"ef047\">7</span>-<span class=\"ef082\">10</span> \\xc2\\xb0C        \\xe2\\x94\\x82 <span class=\"ef226\"> _ /\"\"<span class=\"ef250\">.-.    </span></span> <span class=\"ef047\">7</span>-<span class=\"ef082\">10</span> \\xc2\\xb0C        \\xe2\\x94\\x82\\n\\xe2\\x94\\x82 <span class=\"ef250\">   (___(__)  </span> <span class=\"bold\">\\xe2\\x86\\x97</span> <span class=\"ef196\">44</span>-<span class=\"ef196\">68</span> km/h   \\xe2\\x94\\x82 <span class=\"ef226\">   /<span class=\"ef250\">(___(__) </span></span> <span class=\"bold\">\\xe2\\x86\\x97</span> <span class=\"ef196\">38</span>-<span class=\"ef196\">57</span> km/h   \\xe2\\x94\\x82 <span class=\"ef226\">   \\\\_<span class=\"ef250\">(   ).  </span></span> <span class=\"bold\">\\xe2\\x86\\x91</span> <span class=\"ef214\">20</span>-<span class=\"ef202\">29</span> km/h   \\xe2\\x94\\x82 <span class=\"ef226\">   \\\\_<span class=\"ef250\">(   ).  </span></span> <span class=\"bold\">\\xe2\\x86\\x91</span> <span class=\"ef226\">15</span>-<span class=\"ef214\">23</span> km/h   \\xe2\\x94\\x82\\n\\xe2\\x94\\x82 <span class=\"ef111\">    \\xe2\\x80\\x98 \\xe2\\x80\\x98 \\xe2\\x80\\x98 \\xe2\\x80\\x98  </span> 17 km          \\xe2\\x94\\x82 <span class=\"ef111\">     \\xe2\\x80\\x98 \\xe2\\x80\\x98 \\xe2\\x80\\x98 \\xe2\\x80\\x98 </span> 18 km          \\xe2\\x94\\x82 <span class=\"ef226\">   /<span class=\"ef250\">(___(__) </span></span> 18 km          \\xe2\\x94\\x82 <span class=\"ef226\">   /<span class=\"ef250\">(___(__) </span></span> 19 km          \\xe2\\x94\\x82\\n\\xe2\\x94\\x82 <span class=\"ef111\">   \\xe2\\x80\\x98 \\xe2\\x80\\x98 \\xe2\\x80\\x98 \\xe2\\x80\\x98   </span> 0.4 mm | 84%   \\xe2\\x94\\x82 <span class=\"ef111\">    \\xe2\\x80\\x98 \\xe2\\x80\\x98 \\xe2\\x80\\x98 \\xe2\\x80\\x98  </span> 0.0 mm | 29%   \\xe2\\x94\\x82               0.0 mm | 0%    \\xe2\\x94\\x82               0.0 mm | 0%    \\xe2\\x94\\x82\\n\\xe2\\x94\\x94\\xe2\\x94\\x80\\xe2\\x94\\x80\\xe2\\x94\\x80\\xe2\\x94\\x80\\xe2\\x94\\x80\\xe2\\x94\\x80\\xe2\\x94\\x80\\xe2\\x94\\x80\\xe2\\x94\\x80\\xe2\\x94\\x80\\xe2\\x94\\x80\\xe2\\x94\\x80\\xe2\\x94\\x80\\xe2\\x94\\x80\\xe2\\x94\\x80\\xe2\\x94\\x80\\xe2\\x94\\x80\\xe2\\x94\\x80\\xe2\\x94\\x80\\xe2\\x94\\x80\\xe2\\x94\\x80\\xe2\\x94\\x80\\xe2\\x94\\x80\\xe2\\x94\\x80\\xe2\\x94\\x80\\xe2\\x94\\x80\\xe2\\x94\\x80\\xe2\\x94\\x80\\xe2\\x94\\x80\\xe2\\x94\\x80\\xe2\\x94\\xb4\\xe2\\x94\\x80\\xe2\\x94\\x80\\xe2\\x94\\x80\\xe2\\x94\\x80\\xe2\\x94\\x80\\xe2\\x94\\x80\\xe2\\x94\\x80\\xe2\\x94\\x80\\xe2\\x94\\x80\\xe2\\x94\\x80\\xe2\\x94\\x80\\xe2\\x94\\x80\\xe2\\x94\\x80\\xe2\\x94\\x80\\xe2\\x94\\x80\\xe2\\x94\\x80\\xe2\\x94\\x80\\xe2\\x94\\x80\\xe2\\x94\\x80\\xe2\\x94\\x80\\xe2\\x94\\x80\\xe2\\x94\\x80\\xe2\\x94\\x80\\xe2\\x94\\x80\\xe2\\x94\\x80\\xe2\\x94\\x80\\xe2\\x94\\x80\\xe2\\x94\\x80\\xe2\\x94\\x80\\xe2\\x94\\x80\\xe2\\x94\\xb4\\xe2\\x94\\x80\\xe2\\x94\\x80\\xe2\\x94\\x80\\xe2\\x94\\x80\\xe2\\x94\\x80\\xe2\\x94\\x80\\xe2\\x94\\x80\\xe2\\x94\\x80\\xe2\\x94\\x80\\xe2\\x94\\x80\\xe2\\x94\\x80\\xe2\\x94\\x80\\xe2\\x94\\x80\\xe2\\x94\\x80\\xe2\\x94\\x80\\xe2\\x94\\x80\\xe2\\x94\\x80\\xe2\\x94\\x80\\xe2\\x94\\x80\\xe2\\x94\\x80\\xe2\\x94\\x80\\xe2\\x94\\x80\\xe2\\x94\\x80\\xe2\\x94\\x80\\xe2\\x94\\x80\\xe2\\x94\\x80\\xe2\\x94\\x80\\xe2\\x94\\x80\\xe2\\x94\\x80\\xe2\\x94\\x80\\xe2\\x94\\xb4\\xe2\\x94\\x80\\xe2\\x94\\x80\\xe2\\x94\\x80\\xe2\\x94\\x80\\xe2\\x94\\x80\\xe2\\x94\\x80\\xe2\\x94\\x80\\xe2\\x94\\x80\\xe2\\x94\\x80\\xe2\\x94\\x80\\xe2\\x94\\x80\\xe2\\x94\\x80\\xe2\\x94\\x80\\xe2\\x94\\x80\\xe2\\x94\\x80\\xe2\\x94\\x80\\xe2\\x94\\x80\\xe2\\x94\\x80\\xe2\\x94\\x80\\xe2\\x94\\x80\\xe2\\x94\\x80\\xe2\\x94\\x80\\xe2\\x94\\x80\\xe2\\x94\\x80\\xe2\\x94\\x80\\xe2\\x94\\x80\\xe2\\x94\\x80\\xe2\\x94\\x80\\xe2\\x94\\x80\\xe2\\x94\\x80\\xe2\\x94\\x98\\n                                                       \\xe2\\x94\\x8c\\xe2\\x94\\x80\\xe2\\x94\\x80\\xe2\\x94\\x80\\xe2\\x94\\x80\\xe2\\x94\\x80\\xe2\\x94\\x80\\xe2\\x94\\x80\\xe2\\x94\\x80\\xe2\\x94\\x80\\xe2\\x94\\x80\\xe2\\x94\\x80\\xe2\\x94\\x80\\xe2\\x94\\x80\\xe2\\x94\\x90                                                       \\n\\xe2\\x94\\x8c\\xe2\\x94\\x80\\xe2\\x94\\x80\\xe2\\x94\\x80\\xe2\\x94\\x80\\xe2\\x94\\x80\\xe2\\x94\\x80\\xe2\\x94\\x80\\xe2\\x94\\x80\\xe2\\x94\\x80\\xe2\\x94\\x80\\xe2\\x94\\x80\\xe2\\x94\\x80\\xe2\\x94\\x80\\xe2\\x94\\x80\\xe2\\x94\\x80\\xe2\\x94\\x80\\xe2\\x94\\x80\\xe2\\x94\\x80\\xe2\\x94\\x80\\xe2\\x94\\x80\\xe2\\x94\\x80\\xe2\\x94\\x80\\xe2\\x94\\x80\\xe2\\x94\\x80\\xe2\\x94\\x80\\xe2\\x94\\x80\\xe2\\x94\\x80\\xe2\\x94\\x80\\xe2\\x94\\x80\\xe2\\x94\\x80\\xe2\\x94\\xac\\xe2\\x94\\x80\\xe2\\x94\\x80\\xe2\\x94\\x80\\xe2\\x94\\x80\\xe2\\x94\\x80\\xe2\\x94\\x80\\xe2\\x94\\x80\\xe2\\x94\\x80\\xe2\\x94\\x80\\xe2\\x94\\x80\\xe2\\x94\\x80\\xe2\\x94\\x80\\xe2\\x94\\x80\\xe2\\x94\\x80\\xe2\\x94\\x80\\xe2\\x94\\x80\\xe2\\x94\\x80\\xe2\\x94\\x80\\xe2\\x94\\x80\\xe2\\x94\\x80\\xe2\\x94\\x80\\xe2\\x94\\x80\\xe2\\x94\\x80\\xe2\\x94\\xa4  Thu 01 Nov \\xe2\\x94\\x9c\\xe2\\x94\\x80\\xe2\\x94\\x80\\xe2\\x94\\x80\\xe2\\x94\\x80\\xe2\\x94\\x80\\xe2\\x94\\x80\\xe2\\x94\\x80\\xe2\\x94\\x80\\xe2\\x94\\x80\\xe2\\x94\\x80\\xe2\\x94\\x80\\xe2\\x94\\x80\\xe2\\x94\\x80\\xe2\\x94\\x80\\xe2\\x94\\x80\\xe2\\x94\\x80\\xe2\\x94\\x80\\xe2\\x94\\x80\\xe2\\x94\\x80\\xe2\\x94\\x80\\xe2\\x94\\x80\\xe2\\x94\\x80\\xe2\\x94\\x80\\xe2\\x94\\xac\\xe2\\x94\\x80\\xe2\\x94\\x80\\xe2\\x94\\x80\\xe2\\x94\\x80\\xe2\\x94\\x80\\xe2\\x94\\x80\\xe2\\x94\\x80\\xe2\\x94\\x80\\xe2\\x94\\x80\\xe2\\x94\\x80\\xe2\\x94\\x80\\xe2\\x94\\x80\\xe2\\x94\\x80\\xe2\\x94\\x80\\xe2\\x94\\x80\\xe2\\x94\\x80\\xe2\\x94\\x80\\xe2\\x94\\x80\\xe2\\x94\\x80\\xe2\\x94\\x80\\xe2\\x94\\x80\\xe2\\x94\\x80\\xe2\\x94\\x80\\xe2\\x94\\x80\\xe2\\x94\\x80\\xe2\\x94\\x80\\xe2\\x94\\x80\\xe2\\x94\\x80\\xe2\\x94\\x80\\xe2\\x94\\x80\\xe2\\x94\\x90\\n\\xe2\\x94\\x82            Morning           \\xe2\\x94\\x82             Noon      \\xe2\\x94\\x94\\xe2\\x94\\x80\\xe2\\x94\\x80\\xe2\\x94\\x80\\xe2\\x94\\x80\\xe2\\x94\\x80\\xe2\\x94\\x80\\xe2\\x94\\xac\\xe2\\x94\\x80\\xe2\\x94\\x80\\xe2\\x94\\x80\\xe2\\x94\\x80\\xe2\\x94\\x80\\xe2\\x94\\x80\\xe2\\x94\\x98     Evening           \\xe2\\x94\\x82             Night            \\xe2\\x94\\x82\\n\\xe2\\x94\\x9c\\xe2\\x94\\x80\\xe2\\x94\\x80\\xe2\\x94\\x80\\xe2\\x94\\x80\\xe2\\x94\\x80\\xe2\\x94\\x80\\xe2\\x94\\x80\\xe2\\x94\\x80\\xe2\\x94\\x80\\xe2\\x94\\x80\\xe2\\x94\\x80\\xe2\\x94\\x80\\xe2\\x94\\x80\\xe2\\x94\\x80\\xe2\\x94\\x80\\xe2\\x94\\x80\\xe2\\x94\\x80\\xe2\\x94\\x80\\xe2\\x94\\x80\\xe2\\x94\\x80\\xe2\\x94\\x80\\xe2\\x94\\x80\\xe2\\x94\\x80\\xe2\\x94\\x80\\xe2\\x94\\x80\\xe2\\x94\\x80\\xe2\\x94\\x80\\xe2\\x94\\x80\\xe2\\x94\\x80\\xe2\\x94\\x80\\xe2\\x94\\xbc\\xe2\\x94\\x80\\xe2\\x94\\x80\\xe2\\x94\\x80\\xe2\\x94\\x80\\xe2\\x94\\x80\\xe2\\x94\\x80\\xe2\\x94\\x80\\xe2\\x94\\x80\\xe2\\x94\\x80\\xe2\\x94\\x80\\xe2\\x94\\x80\\xe2\\x94\\x80\\xe2\\x94\\x80\\xe2\\x94\\x80\\xe2\\x94\\x80\\xe2\\x94\\x80\\xe2\\x94\\x80\\xe2\\x94\\x80\\xe2\\x94\\x80\\xe2\\x94\\x80\\xe2\\x94\\x80\\xe2\\x94\\x80\\xe2\\x94\\x80\\xe2\\x94\\x80\\xe2\\x94\\x80\\xe2\\x94\\x80\\xe2\\x94\\x80\\xe2\\x94\\x80\\xe2\\x94\\x80\\xe2\\x94\\x80\\xe2\\x94\\xbc\\xe2\\x94\\x80\\xe2\\x94\\x80\\xe2\\x94\\x80\\xe2\\x94\\x80\\xe2\\x94\\x80\\xe2\\x94\\x80\\xe2\\x94\\x80\\xe2\\x94\\x80\\xe2\\x94\\x80\\xe2\\x94\\x80\\xe2\\x94\\x80\\xe2\\x94\\x80\\xe2\\x94\\x80\\xe2\\x94\\x80\\xe2\\x94\\x80\\xe2\\x94\\x80\\xe2\\x94\\x80\\xe2\\x94\\x80\\xe2\\x94\\x80\\xe2\\x94\\x80\\xe2\\x94\\x80\\xe2\\x94\\x80\\xe2\\x94\\x80\\xe2\\x94\\x80\\xe2\\x94\\x80\\xe2\\x94\\x80\\xe2\\x94\\x80\\xe2\\x94\\x80\\xe2\\x94\\x80\\xe2\\x94\\x80\\xe2\\x94\\xbc\\xe2\\x94\\x80\\xe2\\x94\\x80\\xe2\\x94\\x80\\xe2\\x94\\x80\\xe2\\x94\\x80\\xe2\\x94\\x80\\xe2\\x94\\x80\\xe2\\x94\\x80\\xe2\\x94\\x80\\xe2\\x94\\x80\\xe2\\x94\\x80\\xe2\\x94\\x80\\xe2\\x94\\x80\\xe2\\x94\\x80\\xe2\\x94\\x80\\xe2\\x94\\x80\\xe2\\x94\\x80\\xe2\\x94\\x80\\xe2\\x94\\x80\\xe2\\x94\\x80\\xe2\\x94\\x80\\xe2\\x94\\x80\\xe2\\x94\\x80\\xe2\\x94\\x80\\xe2\\x94\\x80\\xe2\\x94\\x80\\xe2\\x94\\x80\\xe2\\x94\\x80\\xe2\\x94\\x80\\xe2\\x94\\x80\\xe2\\x94\\xa4\\n\\xe2\\x94\\x82 <span class=\"ef226\">   \\\\  /</span>       Partly cloudy  \\xe2\\x94\\x82 <span class=\"ef226\">   \\\\  /</span>       Partly cloudy  \\xe2\\x94\\x82               Overcast       \\xe2\\x94\\x82 <span class=\"ef226\">   \\\\  /</span>       Partly cloudy  \\xe2\\x94\\x82\\n\\xe2\\x94\\x82 <span class=\"ef226\"> _ /\"\"<span class=\"ef250\">.-.    </span></span> <span class=\"ef047\">7</span>-<span class=\"ef082\">10</span> \\xc2\\xb0C        \\xe2\\x94\\x82 <span class=\"ef226\"> _ /\"\"<span class=\"ef250\">.-.    </span></span> <span class=\"ef046\">8</span>-<span class=\"ef082\">11</span> \\xc2\\xb0C        \\xe2\\x94\\x82 <span class=\"f8\"><span class=\"blink\"><span class=\"bold\">     .--.    </span></span></span> <span class=\"ef046\">8</span>-<span class=\"ef082\">10</span> \\xc2\\xb0C        \\xe2\\x94\\x82 <span class=\"ef226\"> _ /\"\"<span class=\"ef250\">.-.    </span></span> <span class=\"ef047\">7</span> \\xc2\\xb0C           \\xe2\\x94\\x82\\n\\xe2\\x94\\x82 <span class=\"ef226\">   \\\\_<span class=\"ef250\">(   ).  </span></span> <span class=\"bold\">\\xe2\\x86\\x90</span> <span class=\"ef214\">23</span>-<span class=\"ef196\">36</span> km/h   \\xe2\\x94\\x82 <span class=\"ef226\">   \\\\_<span class=\"ef250\">(   ).  </span></span> <span class=\"bold\">\\xe2\\x86\\x90</span> <span class=\"ef214\">23</span>-<span class=\"ef196\">36</span> km/h   \\xe2\\x94\\x82 <span class=\"f8\"><span class=\"blink\"><span class=\"bold\">  .-(    ).  </span></span></span> <span class=\"bold\">\\xe2\\x86\\x90</span> <span class=\"ef214\">21</span>-<span class=\"ef196\">35</span> km/h   \\xe2\\x94\\x82 <span class=\"ef226\">   \\\\_<span class=\"ef250\">(   ).  </span></span> <span class=\"bold\">\\xe2\\x86\\x90</span> <span class=\"ef220\">17</span>-<span class=\"ef202\">30</span> km/h   \\xe2\\x94\\x82\\n\\xe2\\x94\\x82 <span class=\"ef226\">   /<span class=\"ef250\">(___(__) </span></span> 20 km          \\xe2\\x94\\x82 <span class=\"ef226\">   /<span class=\"ef250\">(___(__) </span></span> 20 km          \\xe2\\x94\\x82 <span class=\"f8\"><span class=\"blink\"><span class=\"bold\"> (___.__)__) </span></span></span> 20 km          \\xe2\\x94\\x82 <span class=\"ef226\">   /<span class=\"ef250\">(___(__) </span></span> 20 km          \\xe2\\x94\\x82\\n\\xe2\\x94\\x82               0.0 mm | 0%    \\xe2\\x94\\x82               0.0 mm | 0%    \\xe2\\x94\\x82               0.0 mm | 0%    \\xe2\\x94\\x82               0.0 mm | 0%    \\xe2\\x94\\x82\\n\\xe2\\x94\\x94\\xe2\\x94\\x80\\xe2\\x94\\x80\\xe2\\x94\\x80\\xe2\\x94\\x80\\xe2\\x94\\x80\\xe2\\x94\\x80\\xe2\\x94\\x80\\xe2\\x94\\x80\\xe2\\x94\\x80\\xe2\\x94\\x80\\xe2\\x94\\x80\\xe2\\x94\\x80\\xe2\\x94\\x80\\xe2\\x94\\x80\\xe2\\x94\\x80\\xe2\\x94\\x80\\xe2\\x94\\x80\\xe2\\x94\\x80\\xe2\\x94\\x80\\xe2\\x94\\x80\\xe2\\x94\\x80\\xe2\\x94\\x80\\xe2\\x94\\x80\\xe2\\x94\\x80\\xe2\\x94\\x80\\xe2\\x94\\x80\\xe2\\x94\\x80\\xe2\\x94\\x80\\xe2\\x94\\x80\\xe2\\x94\\x80\\xe2\\x94\\xb4\\xe2\\x94\\x80\\xe2\\x94\\x80\\xe2\\x94\\x80\\xe2\\x94\\x80\\xe2\\x94\\x80\\xe2\\x94\\x80\\xe2\\x94\\x80\\xe2\\x94\\x80\\xe2\\x94\\x80\\xe2\\x94\\x80\\xe2\\x94\\x80\\xe2\\x94\\x80\\xe2\\x94\\x80\\xe2\\x94\\x80\\xe2\\x94\\x80\\xe2\\x94\\x80\\xe2\\x94\\x80\\xe2\\x94\\x80\\xe2\\x94\\x80\\xe2\\x94\\x80\\xe2\\x94\\x80\\xe2\\x94\\x80\\xe2\\x94\\x80\\xe2\\x94\\x80\\xe2\\x94\\x80\\xe2\\x94\\x80\\xe2\\x94\\x80\\xe2\\x94\\x80\\xe2\\x94\\x80\\xe2\\x94\\x80\\xe2\\x94\\xb4\\xe2\\x94\\x80\\xe2\\x94\\x80\\xe2\\x94\\x80\\xe2\\x94\\x80\\xe2\\x94\\x80\\xe2\\x94\\x80\\xe2\\x94\\x80\\xe2\\x94\\x80\\xe2\\x94\\x80\\xe2\\x94\\x80\\xe2\\x94\\x80\\xe2\\x94\\x80\\xe2\\x94\\x80\\xe2\\x94\\x80\\xe2\\x94\\x80\\xe2\\x94\\x80\\xe2\\x94\\x80\\xe2\\x94\\x80\\xe2\\x94\\x80\\xe2\\x94\\x80\\xe2\\x94\\x80\\xe2\\x94\\x80\\xe2\\x94\\x80\\xe2\\x94\\x80\\xe2\\x94\\x80\\xe2\\x94\\x80\\xe2\\x94\\x80\\xe2\\x94\\x80\\xe2\\x94\\x80\\xe2\\x94\\x80\\xe2\\x94\\xb4\\xe2\\x94\\x80\\xe2\\x94\\x80\\xe2\\x94\\x80\\xe2\\x94\\x80\\xe2\\x94\\x80\\xe2\\x94\\x80\\xe2\\x94\\x80\\xe2\\x94\\x80\\xe2\\x94\\x80\\xe2\\x94\\x80\\xe2\\x94\\x80\\xe2\\x94\\x80\\xe2\\x94\\x80\\xe2\\x94\\x80\\xe2\\x94\\x80\\xe2\\x94\\x80\\xe2\\x94\\x80\\xe2\\x94\\x80\\xe2\\x94\\x80\\xe2\\x94\\x80\\xe2\\x94\\x80\\xe2\\x94\\x80\\xe2\\x94\\x80\\xe2\\x94\\x80\\xe2\\x94\\x80\\xe2\\x94\\x80\\xe2\\x94\\x80\\xe2\\x94\\x80\\xe2\\x94\\x80\\xe2\\x94\\x80\\xe2\\x94\\x98\\n'\n"
     ]
    }
   ],
   "source": [
    "contents = soup.pre.renderContents()\n",
    "print(contents)"
   ]
  },
  {
   "cell_type": "code",
   "execution_count": 61,
   "metadata": {
    "slideshow": {
     "slide_type": "subslide"
    }
   },
   "outputs": [
    {
     "data": {
      "text/html": [
       "<pre>\n",
       "Weather report: Copenhagen, Denmark\n",
       "\n",
       " <span class=\"ef226\">    \\   /    </span> Clear\n",
       " <span class=\"ef226\">     .-.     </span> <span class=\"ef082\">11</span>-<span class=\"ef118\">13</span> °C       \n",
       " <span class=\"ef226\">  ― (   ) ―  </span> <span class=\"bold\">↖</span> <span class=\"ef208\">26</span> km/h      \n",
       " <span class=\"ef226\">     `-’     </span> 10 km          \n",
       " <span class=\"ef226\">    /   \\    </span> 0.1 mm         \n",
       "                                                       ┌─────────────┐     </pre>"
      ],
      "text/plain": [
       "<IPython.core.display.HTML object>"
      ]
     },
     "execution_count": 61,
     "metadata": {},
     "output_type": "execute_result"
    }
   ],
   "source": [
    "from IPython.core.display import display, HTML\n",
    "HTML(\"<pre>\" + contents.decode('UTF-8' )[:500 ] + \"</pre>\")"
   ]
  },
  {
   "cell_type": "code",
   "execution_count": 62,
   "metadata": {
    "slideshow": {
     "slide_type": "subslide"
    }
   },
   "outputs": [
    {
     "data": {
      "text/html": [
       "<pre>\n",
       "<span class=\"f2\">                                                            <span class=\"f3\">          _               \n",
       "<span class=\"f2\">                                                            <span class=\"f3\"> _ _ __ _| |_ ___  ____ __\n",
       "<span class=\"f2\">                                                            <span class=\"f3\">| '_/ _` |  _/ -_)(_-&lt; \\ /<span class=\"f2\">     \n",
       "__................................................<span class=\"f3\">__________|_| \\__,_|\\__\\___()__/_\\_\\_____\n",
       "<span class=\"f2\"> '           '           '           '           '                                           \n",
       "</span></span></span></span></span></span></span></span></span>\n",
       "Market Cap: $203,351,981,804 =\n",
       "24h Vol: $10,266,207,001 =\n",
       "BTC Dominance: 54.1% =\n",
       "┌──────┬──────┬─────────────┬──────────────┬─────────────┬──────────────────┬──────────────┐\n",
       "│ <span class=\"f3\">Rank</span> │ <span class=\"f3\">Coin</span> │ <span class=\"f3\">Price (USD)</span> │ <span class=\"f3\">Change (24H)</span> │ <span class=\"f3\">Change (1H)</span> │ <span class=\"f3\">Market Cap (USD)</span> │ <span class=\"f3\">Spark (1H)</span>   │\n",
       "├──────┼──────┼─────────────┼──────────────┼─────────────┼──────────────────┼──────────────┤\n",
       "│ 1    │ <span class=\"f6\">BTC</span>  │ <span class=\"f6\">6346.00</span>     │ <span class=\"f1\">-0.08%</span>       │ <span class=\"f2\">0.25%</span>       │ 110.102B         │ <span class=\"f1\">▃</span><span class=\"f2\">▂▃▁▂</span><span class=\"f1\">▁</span><span class=\"f2\">▇</span><span class=\"f1\">▅</span><span class=\"f2\">▇</span><span class=\"f1\">▃▂</span><span class=\"f2\">▃</span> │\n",
       "├──────┼──────┼─────────────┼──────────────┼─────────────┼──────────────────┼──────────────┤\n",
       "│ 2    │ <span class=\"f6\">ETH</span>  │ <span class=\"f6\">197.051</span>     │ <span class=\"f1\">-0.35%</span>       │ <span class=\"f1\">-0.04%</span>      │ 20.275B          │ <span class=\"f2\">▁▇</span><span class=\"f1\">▃</span><span class=\"f2\">▁▁▃</span><span class=\"f1\">▃</span><span class=\"f2\">▅</span><span class=\"f1\">▇</span><span class=\"f2\">▂▂</span><span class=\"f1\">▇</span> │\n",
       "├──────┼──────┼─────────────┼──────────────┼─────────────┼──────────────────┼──────────────┤\n",
       "│ 3    │ <span class=\"f6\">XRP</span>  │ <span class=\"f6\">0.444489</span>    │ <span class=\"f2\">0.50%</span>        │ <span class=\"f1\">-0.22%</span>      │ 17.871B          │ <span class=\"f1\">▁▂</span><span class=\"f2\">▁</span><span class=\"f1\">▂</span><span class=\"f2\">▂</span><span class=\"f1\">▁</span><span class=\"f2\">▅</span><span class=\"f1\">▁▁</span><span class=\"f2\">▁</span><span class=\"f1\">▇▁</span> │\n",
       "├──────┼──────┼─────────────┼──────────────┼─────────────┼──────────────────┼──────────────┤\n",
       "│ 4    │ <span class=\"f6\">BCH</span>  │ <span class=\"f6\">416.966</span>     │ <span class=\"f1\">-0.27%</span>       │ <span class=\"f1\">-0.08%</span>      │ 7.268B           │ <span class=\"f2\">▁▇</span><span class=\"f1\">▃▃</span><span class=\"f2\">▂▅</span><span class=\"f1\">▅</span><span class=\"f2\">▇</span><span class=\"f1\">▅</span><span class=\"f2\">▂▁</span><span class=\"f1\">▇</span> │\n",
       "├──────┼──────┼─────────────┼──────────────┼─────────────┼──────────────────┼──────────────┤\n",
       "│ 5    │ <span class=\"f6\">EOS</span>  │ <span class=\"f6\">5.12091</span>     │ <span class=\"f1\">-0.55%</span>       │ <span class=\"f1\">-0.09%</span>      │ 4.641B           │ <span class=\"f2\">▁▂</span><span class=\"f1\">▁▁</span><span class=\"f2\">▂▂</span><span class=\"f1\">▂</span><span class=\"f2\">▂</span><span class=\"f1\">▂</span><span class=\"f2\">▁▂</span><span class=\"f1\">▇</span> │\n",
       "├──────┼──────┼─────────────┼──────────────┼─────────────┼──────────────────┼──────────────┤\n",
       "│ 6    │ <span class=\"f6\">XLM</span>  │ <span class=\"f6\">0.224093</span>    │ <span class=\"f2\">0.17%</span>        │ <span class=\"f2\">0.29%</span>       │ 4.238B           │ <span class=\"f2\">▂▇</span><span class=\"f1\">▃</span><span class=\"f2\">▁▃▁</span><span class=\"f1\">▇</span><span class=\"f2\">▅</span><span class=\"f1\">▂▁▂</span><span class=\"f2\">▁</span> │\n",
       "├──────┼──────┼─────────────┼──────────────┼─────────────┼──────────────────┼──────────────┤\n",
       "│ 7    │ <span class=\"f6\">LTC</span>  │ <span class=\"f6\">49.3352</span>     │ <span class=\"f2\">0.21%</span>        │ <span class=\"f2\">0.07%</span>       │ 2.908B           │ <span class=\"f2\">▁</span><span class=\"f1\">▁▁▁</span><span class=\"f2\">▂</span><span class=\"f1\">▅</span><span class=\"f2\">▇</span><span class=\"f1\">▁▃</span><span class=\"f2\">▅</span><span class=\"f1\">▇</span><span class=\"f2\">▃</span> │\n",
       "├──────┼──────┼─────────────┼──────────────┼─────────────┼──────────────────┼──────────────┤\n",
       "│ 8    │ <span class=\"f6\">USDT</span> │ <span class=\"f6\">0.997049</span>    │ <span class=\"f2\">0.13%</span>        │ <span class=\"f2\">0.48%</span>       │ 1.821B           │ <span class=\"f2\">▁▇</span><span class=\"f1\">▃▁▁</span><span class=\"f2\">▇</span><span class=\"f1\">▇</span><span class=\"f2\">▇</span><span class=\"f1\">▅</span><span class=\"f2\">▇▁▁</span> │\n",
       "├──────┼──────┼─────────────┼──────────────┼─────────────┼──────────────────┼──────────────┤\n",
       "│ 9    │ <span class=\"f6\">ADA</span>  │ <span class=\"f6\">0.0695973</span>   │ <span class=\"f1\">-0.20%</span>       │ <span class=\"f2\">0.19%</span>       │ 1.804B           │ <span class=\"f2\">▂▇</span><span class=\"f1\">▂▅</span><span class=\"f2\">▅▇</span><span class=\"f1\">▇</span><span class=\"f2\">▅</span><span class=\"f1\">▅</span><span class=\"f2\">▂</span><span class=\"f1\">▅</span><span class=\"f2\">▅</span> │\n",
       "├──────┼──────┼─────────────┼──────────────┼─────────────┼──────────────────┼──────────────┤\n",
       "│ 10   │ <span class=\"f6\">XMR</span>  │ <span class=\"f6\">101.879</span>     │ <span class=\"f1\">-0.57%</span>       │ <span class=\"f1\">-0.21%</span>      │ 1.684B           │ <span class=\"f2\">▁▁</span><span class=\"f1\">▁▂</span><span class=\"f2\">▂▁▅</span><span class=\"f1\">▂▃</span><span class=\"f2\">▁</span><span class=\"f1\">▇</span><span class=\"f2\">▃</span> │\n",
       "└──────┴──────┴─────────────┴──────────────┴─────────────┴──────────────────┴──────────────┘\n",
       "<span class=\"f7\">2018-10-30 16:27:17.121959 UTC</span>\n",
       "\n",
       "<span class=\"f3\">NEW FEATURE:</span> to see cryptocurrency exchange rate, do <span class=\"f2\">curl rate.sx/eth</span> (or any other coin instead of ETH)\n",
       "$\n",
       "</pre>"
      ],
      "text/plain": [
       "<IPython.core.display.HTML object>"
      ]
     },
     "metadata": {},
     "output_type": "display_data"
    }
   ],
   "source": [
    "with urllib.request.urlopen('http://rate.sx/') as content:\n",
    "    soup = BeautifulSoup(content)\n",
    "    display(HTML(\"<pre>\" + soup.pre.renderContents().decode('UTF-8') + \"</pre>\"))"
   ]
  },
  {
   "cell_type": "markdown",
   "metadata": {
    "slideshow": {
     "slide_type": "subslide"
    }
   },
   "source": [
    "## Geolocation"
   ]
  },
  {
   "cell_type": "code",
   "execution_count": 63,
   "metadata": {
    "slideshow": {
     "slide_type": "fragment"
    }
   },
   "outputs": [
    {
     "data": {
      "text/plain": [
       "Location(7, Rued Langgaards Vej, Christianshavn, København, Københavns Kommune, Region Hovedstaden, 2300, Danmark, (55.659886, 12.591235, 0.0))"
      ]
     },
     "execution_count": 63,
     "metadata": {},
     "output_type": "execute_result"
    }
   ],
   "source": [
    "from geopy.geocoders import Nominatim\n",
    "\n",
    "geolocator = Nominatim(user_agent=\"cool application\")\n",
    "geolocator.geocode('Rued Langgaards Vej 7')"
   ]
  },
  {
   "cell_type": "code",
   "execution_count": 64,
   "metadata": {
    "slideshow": {
     "slide_type": "subslide"
    }
   },
   "outputs": [],
   "source": [
    "from geopy.distance import geodesic\n",
    "\n",
    "location1 = (5.659886, 12.591235)\n",
    "location2 = (76.52994655, -68.7147265395818)"
   ]
  },
  {
   "cell_type": "code",
   "execution_count": 65,
   "metadata": {
    "slideshow": {
     "slide_type": "fragment"
    }
   },
   "outputs": [
    {
     "data": {
      "text/plain": [
       "Distance(9168.731541659952)"
      ]
     },
     "execution_count": 65,
     "metadata": {},
     "output_type": "execute_result"
    }
   ],
   "source": [
    "geodesic(location1, location2)"
   ]
  },
  {
   "cell_type": "code",
   "execution_count": 66,
   "metadata": {},
   "outputs": [
    {
     "data": {
      "text/html": [
       "<div style=\"width:100%;\"><div style=\"position:relative;width:100%;height:0;padding-bottom:60%;\"><iframe src=\"data:text/html;charset=utf-8;base64,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\" style=\"position:absolute;width:100%;height:100%;left:0;top:0;border:none !important;\" allowfullscreen webkitallowfullscreen mozallowfullscreen></iframe></div></div>"
      ],
      "text/plain": [
       "<folium.folium.Map at 0x7fcfa41ace48>"
      ]
     },
     "execution_count": 66,
     "metadata": {},
     "output_type": "execute_result"
    }
   ],
   "source": [
    "import folium\n",
    "\n",
    "folium.Map(location=location2)"
   ]
  },
  {
   "cell_type": "markdown",
   "metadata": {
    "slideshow": {
     "slide_type": "subslide"
    }
   },
   "source": [
    "## Sentiment analysis\n",
    "\n"
   ]
  },
  {
   "cell_type": "code",
   "execution_count": 67,
   "metadata": {
    "slideshow": {
     "slide_type": "fragment"
    }
   },
   "outputs": [
    {
     "name": "stdout",
     "output_type": "stream",
     "text": [
      "[nltk_data] Downloading package vader_lexicon to\n",
      "[nltk_data]     /home/jens/nltk_data...\n",
      "[nltk_data]   Package vader_lexicon is already up-to-date!\n"
     ]
    },
    {
     "name": "stderr",
     "output_type": "stream",
     "text": [
      "/home/jens/.virtualenvs/slides/lib/python3.6/site-packages/nltk/twitter/__init__.py:20: UserWarning: The twython library has not been installed. Some functionality from the twitter package will not be available.\n",
      "  warnings.warn(\"The twython library has not been installed. \"\n"
     ]
    }
   ],
   "source": [
    "import nltk\n",
    "from nltk.sentiment.vader import SentimentIntensityAnalyzer\n",
    "\n",
    "nltk.download('vader_lexicon')\n",
    "analyser = SentimentIntensityAnalyzer()"
   ]
  },
  {
   "cell_type": "code",
   "execution_count": 68,
   "metadata": {
    "slideshow": {
     "slide_type": "fragment"
    }
   },
   "outputs": [
    {
     "data": {
      "text/plain": [
       "{'compound': -0.6239, 'neg': 0.577, 'neu': 0.423, 'pos': 0.0}"
      ]
     },
     "execution_count": 68,
     "metadata": {},
     "output_type": "execute_result"
    }
   ],
   "source": [
    "analyser.polarity_scores('Mickey Mouse is a fraud!')"
   ]
  },
  {
   "cell_type": "markdown",
   "metadata": {
    "slideshow": {
     "slide_type": "subslide"
    }
   },
   "source": [
    "# ... And many many more\n",
    "\n",
    "* Look them through and check out the book\n",
    "  * Session 10 will be a Q&A session, where you can also work on code projects"
   ]
  },
  {
   "cell_type": "markdown",
   "metadata": {
    "slideshow": {
     "slide_type": "subslide"
    }
   },
   "source": [
    "## How to use docstrings\n",
    "\n",
    "* Docstrings are documentation that the future you or future users can read"
   ]
  },
  {
   "cell_type": "code",
   "execution_count": null,
   "metadata": {
    "slideshow": {
     "slide_type": "subslide"
    }
   },
   "outputs": [],
   "source": [
    "def is_even(number):\n",
    "    \"\"\"Examines whether a positive number is even. False if negative\n",
    "    :param number: int\n",
    "        The number to examine\n",
    "    :return: bool\n",
    "        True if the number is even and above 0, False otherwise\n",
    "    \"\"\"\n",
    "    if number <= 0:\n",
    "        return False\n",
    "    else:\n",
    "        return number % 2 == 0"
   ]
  },
  {
   "cell_type": "markdown",
   "metadata": {
    "slideshow": {
     "slide_type": "subslide"
    }
   },
   "source": [
    "## Your turn:\n",
    "\n",
    "Clean up and document this function:\n",
    "\n",
    "```python\n",
    "def t(y, k):\n",
    "    \"\"\"This is a single line comment\n",
    "    \n",
    "    \"\"\"\n",
    "    return \"Firstname (\" + y + \") and lastname (\" + k + \")\"\n",
    "```"
   ]
  },
  {
   "cell_type": "code",
   "execution_count": 82,
   "metadata": {},
   "outputs": [
    {
     "ename": "KeyError",
     "evalue": "3",
     "output_type": "error",
     "traceback": [
      "\u001b[0;31m--------------------------------------------------\u001b[0m",
      "\u001b[0;31mKeyError\u001b[0m         Traceback (most recent call last)",
      "\u001b[0;32m<ipython-input-82-2f190fa8129e>\u001b[0m in \u001b[0;36m<module>\u001b[0;34m()\u001b[0m\n\u001b[1;32m      1\u001b[0m \u001b[0md\u001b[0m \u001b[0;34m=\u001b[0m \u001b[0;34m{\u001b[0m\u001b[0;36m1\u001b[0m\u001b[0;34m:\u001b[0m \u001b[0;34m'Moomin My'\u001b[0m\u001b[0;34m}\u001b[0m\u001b[0;34m\u001b[0m\u001b[0;34m\u001b[0m\u001b[0m\n\u001b[1;32m      2\u001b[0m \u001b[0md\u001b[0m\u001b[0;34m[\u001b[0m\u001b[0;36m2\u001b[0m\u001b[0;34m]\u001b[0m \u001b[0;34m=\u001b[0m \u001b[0;34m'Moomin Snuff'\u001b[0m\u001b[0;34m\u001b[0m\u001b[0;34m\u001b[0m\u001b[0m\n\u001b[0;32m----> 3\u001b[0;31m \u001b[0mprint\u001b[0m\u001b[0;34m(\u001b[0m\u001b[0md\u001b[0m\u001b[0;34m[\u001b[0m\u001b[0;36m3\u001b[0m\u001b[0;34m]\u001b[0m\u001b[0;34m)\u001b[0m\u001b[0;34m\u001b[0m\u001b[0;34m\u001b[0m\u001b[0m\n\u001b[0m",
      "\u001b[0;31mKeyError\u001b[0m: 3"
     ]
    }
   ],
   "source": [
    "d = {1: 'Moomin My'}\n",
    "d[2] = 'Moomin Snuff'\n",
    "print(d[3])"
   ]
  }
 ],
 "metadata": {
  "celltoolbar": "Slideshow",
  "kernelspec": {
   "display_name": "Python 3",
   "language": "python",
   "name": "python3"
  },
  "language_info": {
   "codemirror_mode": {
    "name": "ipython",
    "version": 3
   },
   "file_extension": ".py",
   "mimetype": "text/x-python",
   "name": "python",
   "nbconvert_exporter": "python",
   "pygments_lexer": "ipython3",
   "version": "3.6.3"
  }
 },
 "nbformat": 4,
 "nbformat_minor": 2
}
