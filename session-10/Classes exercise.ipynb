{
 "cells": [
  {
   "cell_type": "markdown",
   "metadata": {
    "slideshow": {
     "slide_type": "slide"
    }
   },
   "source": [
    "## Classes recap and exercise"
   ]
  },
  {
   "cell_type": "code",
   "execution_count": null,
   "metadata": {
    "slideshow": {
     "slide_type": "subslide"
    }
   },
   "outputs": [],
   "source": [
    "class Cat():                          # The class definition\n",
    "    \n",
    "    def __init__(self, name):         # The constructor, called whenever an object is created\n",
    "        self.name = name              # The attribute 'name'\n",
    "\n",
    "#   ^---- Methods are indented with 4 spaces\n",
    "    \n",
    "    def sound(self):                  # A method that can be invoked and access attributes\n",
    "        print(self.name + \" miaus\")\n",
    "\n",
    "#       ^---- Methods have code that are indented 8 spaces"
   ]
  },
  {
   "cell_type": "code",
   "execution_count": null,
   "metadata": {
    "slideshow": {
     "slide_type": "subslide"
    }
   },
   "outputs": [],
   "source": [
    "class Cat():                          # The class definition\n",
    "    \n",
    "    def __init__(self, name, colour):         # The constructor, called whenever an object is created\n",
    "        self.name = name              # The attribute 'name'\n",
    "        self.colour = colour\n",
    "        \n",
    "# We are now instantiating a cat that will invoke the __init__ function and\n",
    "# assign the string 'Garfield' to the name attribute \n",
    "garfield = Cat('Garfield', 'orange')\n",
    "\n",
    "# We are now instantiating a second cat that will invoke the constructor\n",
    "# but assign 'Tom' to the name attribute. Notice that the constructor\n",
    "# is assigning self.name for both cats. But the names remain different.\n",
    "# That is because 'self' is unique for each Cat instance.\n",
    "tom = Cat('Tom', 'grey')"
   ]
  },
  {
   "cell_type": "markdown",
   "metadata": {
    "slideshow": {
     "slide_type": "subslide"
    }
   },
   "source": [
    "## How to: Create an attribute\n",
    "\n",
    "```python\n",
    "class Book():\n",
    "\n",
    "    def __init__(self, title):\n",
    "        self.title = title\n",
    "```"
   ]
  },
  {
   "cell_type": "markdown",
   "metadata": {
    "slideshow": {
     "slide_type": "subslide"
    }
   },
   "source": [
    "## How to: Create a method\n",
    "\n",
    "```python\n",
    "class Spaceship():\n",
    "\n",
    "    def get_number_of_astronauts(self):\n",
    "        return 4\n",
    "```"
   ]
  },
  {
   "cell_type": "markdown",
   "metadata": {
    "slideshow": {
     "slide_type": "subslide"
    }
   },
   "source": [
    "## How to: Create a method that uses attributes\n",
    "\n",
    "```python\n",
    "class Spaceship():\n",
    "\n",
    "    def get_number_of_astronauts(self):\n",
    "        if self.is_exploded:\n",
    "            return 0\n",
    "        else:\n",
    "            return 4\n",
    "```"
   ]
  },
  {
   "cell_type": "markdown",
   "metadata": {
    "slideshow": {
     "slide_type": "subslide"
    }
   },
   "source": [
    "## Classes exercise\n",
    "Stolen from 'Python Crash Course' exercise 9-3.\n",
    "\n",
    "* Make a class called `User`. \n",
    "* Create two attributes called `first_name` and `last_name`, and then create several other attributes that are typically stored in a user profile\n",
    "* Make a method called `describe_user()` that prints a summary of the user’s information\n",
    "* Make another method called `greet_user()` that prints a personalized greeting to the user\n",
    "* Create several instances representing different users, and call both methods for each user"
   ]
  },
  {
   "cell_type": "markdown",
   "metadata": {
    "slideshow": {
     "slide_type": "subslide"
    }
   },
   "source": [
    "An administrator is a special kind of user\n",
    "* Write a class called `Admin` that inherits from the User class you wrote\n",
    "* Add an attribute, `privileges`, that stores a list of strings like `\"can add post\"`, `\"can delete post\"`, `\"can ban user\", and so on . \n",
    "* Write a method called `show_privileges()` that lists the administrator’s set of privileges\n",
    "* Create an instance of `Admin`, and call your method `show_privileges()`."
   ]
  }
 ],
 "metadata": {
  "celltoolbar": "Slideshow",
  "kernelspec": {
   "display_name": "Python 3",
   "language": "python",
   "name": "python3"
  },
  "language_info": {
   "codemirror_mode": {
    "name": "ipython",
    "version": 3
   },
   "file_extension": ".py",
   "mimetype": "text/x-python",
   "name": "python",
   "nbconvert_exporter": "python",
   "pygments_lexer": "ipython3",
   "version": "3.6.3"
  }
 },
 "nbformat": 4,
 "nbformat_minor": 2
}
