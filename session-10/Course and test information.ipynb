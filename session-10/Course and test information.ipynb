{
 "cells": [
  {
   "cell_type": "markdown",
   "metadata": {
    "slideshow": {
     "slide_type": "slide"
    }
   },
   "source": [
    "# The seminar so far....\n",
    "\n",
    "* Session 1: Data types and variables\n",
    "* Session 2: Lists and loops\n",
    "* Session 3: Command-line interface\n",
    "* Session 4: Functions and modules\n",
    "* Session 5: Files and objects\n",
    "* Session 6: Excel and tests\n",
    "* Session 7: Algorithms and runtimes\n",
    "* Session 8: Abstract data types\n",
    "* Session 9: Network and the internet\n",
    "* Session 10: Workshop and Q&A"
   ]
  },
  {
   "cell_type": "markdown",
   "metadata": {
    "slideshow": {
     "slide_type": "slide"
    }
   },
   "source": [
    "## Learning outcomes\n",
    "\n",
    "* *analyse* a given, simple computational task \n",
    "* *test* the correctness of a piece of code\n",
    "* *write* program documentation\n",
    "* *reason* about the computational complexity of an algorithm\n",
    "* *express* functionality in terms of abstract data type or application programming interface\n",
    "* *use* text-based tools of program development, including an editor and command-line tools"
   ]
  },
  {
   "cell_type": "markdown",
   "metadata": {
    "slideshow": {
     "slide_type": "subslide"
    }
   },
   "source": [
    "\n",
    "## Course content\n",
    "\n",
    "* Sequential execution, expression, selection, iteration, state, variable, assignment\n",
    "* String manipulation and text files\n",
    "* Testing and debugging\n",
    "* Stacks and queues, sorting\n",
    "* Worst-case running time\n",
    "* Abstract data types, types\n",
    "* Objects, classes"
   ]
  },
  {
   "cell_type": "markdown",
   "metadata": {
    "slideshow": {
     "slide_type": "slide"
    }
   },
   "source": [
    "# How to hack your grades\n",
    "\n",
    "* Be aware of how you think\n",
    "  * How are you currently going about it? Is that the best way?\n",
    "* **What** are you learning?\n",
    "  * And how does that fit into the bigger picture? Why is it relevant?\n",
    "* **How** are you learning?\n",
    "  * Visual, auditory etc. (modalities)\n",
    "  * Practical vs theoretical"
   ]
  },
  {
   "cell_type": "markdown",
   "metadata": {
    "slideshow": {
     "slide_type": "fragment"
    }
   },
   "source": [
    "* You are human: fail fast"
   ]
  },
  {
   "cell_type": "markdown",
   "metadata": {
    "slideshow": {
     "slide_type": "fragment"
    }
   },
   "source": [
    "* This takes time. Seriously. Take. The. Time"
   ]
  },
  {
   "cell_type": "markdown",
   "metadata": {
    "slideshow": {
     "slide_type": "fragment"
    }
   },
   "source": [
    "* Think about how you think and learn\n",
    "  * Is it smart to attend the lectures but never work on it by yourself? \n",
    "  * Take notes!\n",
    "  * (Hint: we won't be there to help you at the exam)"
   ]
  },
  {
   "cell_type": "markdown",
   "metadata": {
    "slideshow": {
     "slide_type": "subslide"
    }
   },
   "source": [
    "## Test information\n",
    "\n",
    "At ITU on the 15th of November from 15:00 - 19:00 (4 hours)\n",
    "\n",
    "**Protip: Be early!** Check-in opens at 14:00"
   ]
  },
  {
   "cell_type": "markdown",
   "metadata": {
    "slideshow": {
     "slide_type": "fragment"
    }
   },
   "source": [
    "* Bring your student card\n",
    "* Make sure your computer *works* and are *ready* to code\n",
    "* Make sure you are on the ITU or eduroam wifi!\n",
    "* Bring food"
   ]
  },
  {
   "cell_type": "markdown",
   "metadata": {
    "slideshow": {
     "slide_type": "subslide"
    }
   },
   "source": [
    "## Seminar evaluation\n",
    "\n",
    "\n",
    "* As always we are very curious to hear your opinion\n",
    "\n",
    "* The link is on LearnIT\n",
    "\n",
    "https://www.survey-xact.dk/LinkCollector?key=G8NR1Q8G1N1N"
   ]
  }
 ],
 "metadata": {
  "celltoolbar": "Slideshow",
  "kernelspec": {
   "display_name": "Python 3",
   "language": "python",
   "name": "python3"
  },
  "language_info": {
   "codemirror_mode": {
    "name": "ipython",
    "version": 3
   },
   "file_extension": ".py",
   "mimetype": "text/x-python",
   "name": "python",
   "nbconvert_exporter": "python",
   "pygments_lexer": "ipython3",
   "version": "3.6.3"
  }
 },
 "nbformat": 4,
 "nbformat_minor": 2
}
