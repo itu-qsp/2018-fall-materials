{
 "cells": [
  {
   "cell_type": "markdown",
   "metadata": {
    "slideshow": {
     "slide_type": "slide"
    }
   },
   "source": [
    "# Why do all good things come to an end?\n",
    "\n",
    "\n",
    "  > Flames to dust\n",
    "  >\n",
    "  > Lovers to friends\n",
    "  >\n",
    "  > Why do all good things come to an end?\n",
    "  >\n",
    "  > Nelly Furtado, https://www.youtube.com/watch?v=4pBo-GL9SRg"
   ]
  },
  {
   "cell_type": "markdown",
   "metadata": {
    "slideshow": {
     "slide_type": "subslide"
    }
   },
   "source": [
    "# Do they?\n",
    "\n",
    "Remember how we started?\n",
    "\n",
    "```python\n",
    "import re\n",
    "import random\n",
    "import eliza_language as lang\n",
    "\n",
    "\n",
    "def reflect(fragment):\n",
    "    tokens = fragment.lower().split()\n",
    "    for i, token in enumerate(tokens):\n",
    "        if token in lang.REFLECTIONS:\n",
    "            tokens[i] = lang.REFLECTIONS[token]\n",
    "    return ' '.join(tokens)\n",
    "\n",
    "\n",
    "def analyze(statement):\n",
    "    for pattern, responses in lang.PSYCHOBABBLE:\n",
    "        match = re.match(pattern, statement.rstrip(\".!\"))\n",
    "        if match:\n",
    "            response = random.choice(responses)\n",
    "            return response.format(*[reflect(g) for g in match.groups()])\n",
    "\n",
    "\n",
    "def talk_to_me():\n",
    "    print(\"Hello. How are you feeling today?\")\n",
    "\n",
    "    while True:\n",
    "        statement = input(\"> \")\n",
    "        print(analyze(statement))\n",
    "```"
   ]
  },
  {
   "cell_type": "markdown",
   "metadata": {
    "slideshow": {
     "slide_type": "slide"
    }
   },
   "source": [
    "# And now?\n",
    "\n",
    "So far, during the last weeks, we learned how to program. But constructing software is way more than only programming."
   ]
  },
  {
   "cell_type": "markdown",
   "metadata": {
    "slideshow": {
     "slide_type": "fragment"
    }
   },
   "source": [
    "It is similar to communication in the real world. What we did so far, corresponds to that you learned how to speak a foreign language. But you did not learn how to write a captivating novel or how to hold an interesting speech.\n",
    "\n",
    "The latter is what _software egineering_ is about."
   ]
  },
  {
   "cell_type": "markdown",
   "metadata": {
    "slideshow": {
     "slide_type": "subslide"
    }
   },
   "source": [
    "# Software Engineering\n",
    "\n",
    "  > **software engineering.** (1) The application of a systematic, disciplined, quantifiable approach to the development, operation, and maintenance of software; that is, the application of engineering to software. ...\n",
    "  >\n",
    "  >  _IEEE Standard Glossary of Software Engineering Terminology_, IEEE std 610.12-1990, 1990., \n",
    "  > see for example https://www.idi.ntnu.no/grupper/su/publ/ese/ieee-se-glossary-610.12-1990.pdf\n",
    "  \n",
    "That is, creating software is more that programming! "
   ]
  },
  {
   "cell_type": "markdown",
   "metadata": {
    "slideshow": {
     "slide_type": "subslide"
    }
   },
   "source": [
    "## Did we do more than programming?\n",
    "\n",
    "We already applied typical software engineering practices. Did we? "
   ]
  },
  {
   "cell_type": "markdown",
   "metadata": {
    "slideshow": {
     "slide_type": "fragment"
    }
   },
   "source": [
    "Yes, partly. We applied:\n",
    "  \n",
    "  * Version control with Git, to distribute the latest lecture material.\n",
    "  * Perhaps you used the unit tests and test cases that we provided to test your code.\n",
    "  * Likely you wrote some documentation in the form of docstrings, comments, or text files."
   ]
  },
  {
   "cell_type": "markdown",
   "metadata": {
    "slideshow": {
     "slide_type": "subslide"
    }
   },
   "source": [
    "But there are many more issues, which we did not cover in this seminar, but which you may find interesting in your further studies or your later careers.\n",
    "\n",
    "For example:  "
   ]
  },
  {
   "cell_type": "markdown",
   "metadata": {
    "slideshow": {
     "slide_type": "fragment"
    }
   },
   "source": [
    "  * **Requirements ellicitation**, that is how to figure out what other people want to have build/solved?"
   ]
  },
  {
   "cell_type": "markdown",
   "metadata": {
    "slideshow": {
     "slide_type": "fragment"
    }
   },
   "source": [
    "  * **Software Architecture**, how to structure our system into sub-systems that are appropriate for the solution?"
   ]
  },
  {
   "cell_type": "markdown",
   "metadata": {
    "slideshow": {
     "slide_type": "fragment"
    }
   },
   "source": [
    "  * **Deployment**, how do we actually build our system and make different parts of it operate on potentially many computers?"
   ]
  },
  {
   "cell_type": "markdown",
   "metadata": {
    "slideshow": {
     "slide_type": "subslide"
    }
   },
   "source": [
    "  * **Team Management**, how do we have to organize teams so that they know what to do and get things done on time?"
   ]
  },
  {
   "cell_type": "markdown",
   "metadata": {
    "slideshow": {
     "slide_type": "fragment"
    }
   },
   "source": [
    "  * **Time/Project Management**, how do we figure out which task takes how long, figure out it's importance, and when to complete it?"
   ]
  },
  {
   "cell_type": "markdown",
   "metadata": {
    "slideshow": {
     "slide_type": "fragment"
    }
   },
   "source": [
    "  * and many more..."
   ]
  },
  {
   "cell_type": "markdown",
   "metadata": {
    "slideshow": {
     "slide_type": "subslide"
    }
   },
   "source": [
    "Consequently, software engineering is to a high degree a social process, which in turn relies heavily on interaction with others to understand what they really want.\n",
    "\n",
    "<img src=\"https://www.signavio.com/wp-content/uploads/2016/09/vertical-medien-iStock_75648673_XXXLARGE.jpg?w=1200&h=480&zc=1\" width=600/>\n",
    "\n",
    "\n",
    "This is where IT studies are often misunderstood and clichés about nerdy developers are just wrong."
   ]
  },
  {
   "cell_type": "markdown",
   "metadata": {
    "slideshow": {
     "slide_type": "subslide"
    }
   },
   "source": [
    "Let us try to illustrate some aspects of software engineering on the following scenario.\n",
    "\n",
    "## Scenario\n",
    "\n",
    "  > Let's imagine that some of your fellow students realize that you often have to collect data via surveys during your studies. In the beginning you handle those tasks via [Google Forms](https://www.google.com/forms/about/).\n",
    "  >\n",
    "  > Eventually, some of your fellow students realize that they do not want to continue using this service as all of your surverys along with the collected responses are stored on Google's servers.\n",
    "  >\n",
    "  > They come to you and utter the desire that they would like to have their own survey system."
   ]
  },
  {
   "cell_type": "markdown",
   "metadata": {
    "slideshow": {
     "slide_type": "fragment"
    }
   },
   "source": [
    "### What could be done from that description to solve thier problem?\n",
    "\n",
    "  * You could point them to one of the many other survey services, such as http://www.surveymonkey.com\n",
    "  * You could create an email account to which respondents email their surveys and then you crowdsource the task of collecting all the replies in an Excel sheet, which will eventually be emailed to your friends.\n",
    "  * and many more... your imagination sets the limits."
   ]
  },
  {
   "cell_type": "markdown",
   "metadata": {
    "slideshow": {
     "slide_type": "subslide"
    }
   },
   "source": [
    "Now, that you know how to program with Python and that you have an idea about writing webservers with it, you are **brave** and tell you fellow students that you think you can build a small software systems, which allows them to run various kinds of surveys online.\n",
    "\n",
    "![](images/brave.png)\n",
    "\n",
    "But where to start?"
   ]
  },
  {
   "cell_type": "markdown",
   "metadata": {
    "slideshow": {
     "slide_type": "subslide"
    }
   },
   "source": [
    "Likely, instead of directly starting to program a system of which you think that it will appropriately implement their requirements, it is likely a good idea to talk to them to try to figure out what their requirements actually are.\n",
    "\n",
    "<div style=\"float:left; width:400px\">\n",
    "    <img src=\"http://media.cleveland.com/roadrant_impact/photo/road-rant-rhoades-car-7efb1399a88e2961.jpg\" width=\"400px\"/>\n",
    "</div>\n",
    "<div style=\"float:right; width:400px\">\n",
    "    <img src=\"https://cleantechnica.com/files/2017/08/Tesla-Model-X-Silver.jpg\" width=\"400px\"/>\n",
    "</div>"
   ]
  },
  {
   "cell_type": "markdown",
   "metadata": {
    "slideshow": {
     "slide_type": "subslide"
    }
   },
   "source": [
    "### How do we know what to program?\n",
    "\n",
    "One of the most important Software Engineering activities is about how we can ellicit and capture the requirements for a project so that we are sure to not miss anything of importance in our solution and so that we provide a solution which actually matches what is desired. \n",
    "\n",
    "So quite likely, you have to meet with your friends and you have to try to figure out what it is that they need essentially.\n",
    "\n",
    "\n",
    "![](http://gazetekarinca.com/wp-content/uploads/2017/04/anket.jpg)"
   ]
  },
  {
   "cell_type": "markdown",
   "metadata": {
    "slideshow": {
     "slide_type": "subslide"
    }
   },
   "source": [
    "#### After some meetings...\n",
    "\n",
    "You likely figured out that they need for sure a system that can display questionaires in a browser window and that collects the responses in some form of a database."
   ]
  },
  {
   "cell_type": "markdown",
   "metadata": {
    "slideshow": {
     "slide_type": "subslide"
    }
   },
   "source": [
    "So you start working and write a server similar to this one:\n",
    "    \n",
    "    \n",
    "```python\n",
    "import os\n",
    "import sqlite3\n",
    "from flask import Flask, render_template, request\n",
    "\n",
    "\n",
    "app = Flask(__name__, static_url_path='')\n",
    "\n",
    "\n",
    "def init_db(db='survey_replies.db'):\n",
    "    # [...not displayed here...]\n",
    "    pass\n",
    "\n",
    "def save_reply_to_db(data, db='survey_replies.db'):\n",
    "    # [...not displayed here...]\n",
    "    pass\n",
    "\n",
    "\n",
    "@app.route('/', methods=['GET', 'POST'])\n",
    "def serve_file():\n",
    "    if request.method == 'GET':\n",
    "        return render_template('index.html')\n",
    "    elif request.method == 'POST':\n",
    "        users_reply = request.form\n",
    "        save_reply_to_db(users_reply.values())\n",
    "        return 'Thank you! Your answers are saved.'\n",
    "\n",
    "\n",
    "if __name__ == '__main__':\n",
    "    app.run(host='127.0.0.1', debug=True)\n",
    "```\n",
    "\n",
    "Inspect the complete code in `questionaire_server/server.py`."
   ]
  },
  {
   "cell_type": "markdown",
   "metadata": {
    "slideshow": {
     "slide_type": "subslide"
    }
   },
   "source": [
    "<head>\n",
    "    <link href=\"//netdna.bootstrapcdn.com/bootstrap/3.3.7/css/bootstrap.min.css\" rel=\"stylesheet\">\n",
    "    <title>Sample HTML Survey Form</title>\n",
    "    <style></style>\n",
    "</head>\n",
    "\n",
    "<body>\n",
    "    <h1><center>Sample HTML Survey Form</center></h1>\n",
    "    <h4><center>Qualification Seminar</center></h4>\n",
    "    <form action=\"/\" method=\"post\">\n",
    "        <hr>\n",
    "        <p>\n",
    "            The purpose of the survey would be stated here at the top of the survey. This survey should take less than 10 minutes to complete. This example is based on <a href=\"http://www1.udel.edu/dsacher/survey/\">Example online</a>\n",
    "        </p>\n",
    "        <p>\n",
    "            Some simple demographic information could be collected with radio buttons (e.g., gender, nationality), selection boxes (e.g., date of birth, snack preferences, etc.):\n",
    "        </p>\n",
    "        <h3>Please tell us a little about yourself. </h3>\n",
    "        <p>\n",
    "            Gender:\n",
    "            <input type=\"RADIO\" name=\"gender\" value=\"female\">Female\n",
    "            <input type=\"RADIO\" name=\"gender\" value=\"male\">Male\n",
    "            <input type=\"RADIO\" name=\"gender\" value=\"na\">Don't want to tell\n",
    "        </p>\n",
    "        <p>\n",
    "            Date of birth: Month\n",
    "            <select name=\"mob\">\n",
    "                <option selected=\"\" value=\"\">?</option>\n",
    "                <option value=\"1\">Jan</option>\n",
    "                <option value=\"2\">Feb</option>\n",
    "                <option value=\"3\">Mar</option>\n",
    "                <option value=\"4\">Apr</option>\n",
    "                <option value=\"5\">May</option>\n",
    "                <option value=\"6\">Jun</option>\n",
    "                <option value=\"7\">Jul</option>\n",
    "                <option value=\"8\">Aug</option>\n",
    "                <option value=\"9\">Sept</option>\n",
    "                <option value=\"10\">Oct</option>\n",
    "                <option value=\"11\">Nov</option>\n",
    "                <option value=\"12\">Dec</option>\n",
    "            </select> Day\n",
    "            <select name=\"dob\">\n",
    "                <option selected=\"\" value=\"\">?</option>\n",
    "                <option>1</option>\n",
    "                <option>2</option>\n",
    "                <option>3</option>\n",
    "                <option>4</option>\n",
    "                <option>5</option>\n",
    "                <option>6</option>\n",
    "                <option>7</option>\n",
    "                <option>8</option>\n",
    "                <option>9</option>\n",
    "                <option>10</option>\n",
    "                <option>11</option>\n",
    "                <option>12</option>\n",
    "                <option>13</option>\n",
    "                <option>14</option>\n",
    "                <option>15</option>\n",
    "                <option>16</option>\n",
    "                <option>17</option>\n",
    "                <option>18</option>\n",
    "                <option>19</option>\n",
    "                <option>20</option>\n",
    "                <option>21</option>\n",
    "                <option>22</option>\n",
    "                <option>23</option>\n",
    "                <option>24</option>\n",
    "                <option>25</option>\n",
    "                <option>26</option>\n",
    "                <option>27</option>\n",
    "                <option>28</option>\n",
    "                <option>29</option>\n",
    "                <option>30</option>\n",
    "                <option>31 </option>\n",
    "            </select> Year\n",
    "            <select name=\"yob\">\n",
    "                <option selected=\"\" value=\"\">??</option>\n",
    "                <option>1990</option>\n",
    "                <option>1991</option>\n",
    "                <option>1992</option>\n",
    "                <option>1993</option>\n",
    "                <option>1994</option>\n",
    "                <option>1995</option>\n",
    "                <option>1996</option>\n",
    "                <option>1997</option>\n",
    "                <option>1998</option>\n",
    "                <option>1999</option>\n",
    "                <option>2000</option>\n",
    "                <option>2001</option>\n",
    "                <option>2002</option>\n",
    "                <option>2003</option>\n",
    "                <option>2004</option>\n",
    "                <option>2005</option>\n",
    "            </select>\n",
    "        </p>\n",
    "        <p>\n",
    "            Nationality:\n",
    "            <input type=\"RADIO\" name=\"nation\" value=\"1\">Danish\n",
    "            <input type=\"RADIO\" name=\"nation\" value=\"2\">Swedish\n",
    "            <input type=\"RADIO\" name=\"nation\" value=\"3\">Norwegian\n",
    "            <input type=\"RADIO\" name=\"nation\" value=\"4\">Finish\n",
    "            <input type=\"RADIO\" name=\"nation\" value=\"5\">Non-Scandinavian\n",
    "        </p>\n",
    "        <p>\n",
    "            Favorite ice-cream:\n",
    "            <select name=\"fav_icecream\">\n",
    "                <option selected=\"\" value=\"\"> ?</option>\n",
    "                <option value=\"1\">Vanilla</option>\n",
    "                <option value=\"2\">Chocolate</option>\n",
    "                <option value=\"3\">Strawberry</option>\n",
    "                <option value=\"4\">Lemon</option>\n",
    "                <option value=\"5\">Other</option>\n",
    "            </select>\n",
    "        </p>\n",
    "        <hr>\n",
    "        <h3>Select the answer that is true most of the time.</h3>\n",
    "        <p>\n",
    "            <table border=\"\">\n",
    "                <tbody>\n",
    "                    <tr align=\"CENTER\">\n",
    "                        <td width=\"75\"> </td>\n",
    "                        <td width=\"75\"><b>Strongly<br>agree</b></td>\n",
    "                        <td width=\"75\"><b>Agree</b></td>\n",
    "                        <td width=\"75\"><b>Neither<br>agree<br>nor<br>disagree</b></td>\n",
    "                        <td width=\"75\"><b>Disagree</b></td>\n",
    "                        <td width=\"75\"><b>Strongly<br>disagree</b></td>\n",
    "                    </tr>\n",
    "                    <tr align=\"CENTER\">\n",
    "                        <td align=\"LEFT\">\n",
    "                            We did not eat sufficient ice cream during the seminar.</td>\n",
    "                        <td>\n",
    "                            <input type=\"RADIO\" name=\"icecream\" value=\"1\">\n",
    "                        </td>\n",
    "                        <td>\n",
    "                            <input type=\"RADIO\" name=\"icecream\" value=\"2\">\n",
    "                        </td>\n",
    "                        <td>\n",
    "                            <input type=\"RADIO\" name=\"icecream\" value=\"3\">\n",
    "                        </td>\n",
    "                        <td>\n",
    "                            <input type=\"RADIO\" name=\"icecream\" value=\"4\">\n",
    "                        </td>\n",
    "                        <td>\n",
    "                            <input type=\"RADIO\" name=\"icecream\" value=\"5\">\n",
    "                        </td>\n",
    "                    </tr>\n",
    "                    <tr align=\"CENTER\">\n",
    "                        <td align=\"LEFT\">\n",
    "                            There should have been more cake.</td>\n",
    "                        <td>\n",
    "                            <input type=\"RADIO\" name=\"cake\" value=\"1\">\n",
    "                        </td>\n",
    "                        <td>\n",
    "                            <input type=\"RADIO\" name=\"cake\" value=\"2\">\n",
    "                        </td>\n",
    "                        <td>\n",
    "                            <input type=\"RADIO\" name=\"cake\" value=\"3\">\n",
    "                        </td>\n",
    "                        <td>\n",
    "                            <input type=\"RADIO\" name=\"cake\" value=\"4\">\n",
    "                        </td>\n",
    "                        <td>\n",
    "                            <input type=\"RADIO\" name=\"cake\" value=\"5\">\n",
    "                        </td>\n",
    "                    </tr>\n",
    "                    <tr align=\"CENTER\">\n",
    "                        <td align=\"LEFT\">\n",
    "                            I am angry because nobody shared cookies with me.</td>\n",
    "                        <td>\n",
    "                            <input type=\"RADIO\" name=\"cookies\" value=\"1\">\n",
    "                        </td>\n",
    "                        <td>\n",
    "                            <input type=\"RADIO\" name=\"cookies\" value=\"2\">\n",
    "                        </td>\n",
    "                        <td>\n",
    "                            <input type=\"RADIO\" name=\"cookies\" value=\"3\">\n",
    "                        </td>\n",
    "                        <td>\n",
    "                            <input type=\"RADIO\" name=\"cookies\" value=\"4\">\n",
    "                        </td>\n",
    "                        <td>\n",
    "                            <input type=\"RADIO\" name=\"cookies\" value=\"5\">\n",
    "                        </td>\n",
    "                    </tr>\n",
    "                    <tr align=\"CENTER\">\n",
    "                        <td align=\"LEFT\">\n",
    "                            Raisins should not be a cookie ingredient.</td>\n",
    "                        <td>\n",
    "                            <input type=\"RADIO\" name=\"ingredient\" value=\"1\">\n",
    "                        </td>\n",
    "                        <td>\n",
    "                            <input type=\"RADIO\" name=\"ingredient\" value=\"2\">\n",
    "                        </td>\n",
    "                        <td>\n",
    "                            <input type=\"RADIO\" name=\"ingredient\" value=\"3\">\n",
    "                        </td>\n",
    "                        <td>\n",
    "                            <input type=\"RADIO\" name=\"ingredient\" value=\"4\">\n",
    "                        </td>\n",
    "                        <td>\n",
    "                            <input type=\"RADIO\" name=\"ingredient\" value=\"5\">\n",
    "                        </td>\n",
    "                    </tr>\n",
    "                </tbody>\n",
    "            </table>\n",
    "        </p>\n",
    "        <hr>\n",
    "        <p></p>\n",
    "        <p>\n",
    "            Do you have any additional thoughts on the topic of the survey?\n",
    "            <br>\n",
    "            <textarea name=\"comment\" rows=\"4\" cols=\"50\"></textarea>\n",
    "        </p>\n",
    "        <p></p>\n",
    "        <p>\n",
    "            If you would like to get informed about the results of the survey, please type your e-mail address below:\n",
    "            <br>\n",
    "        </p>\n",
    "        <center>\n",
    "            E-mail address:\n",
    "            <input type=\"text\" name=\"email\" size=\"40\" maxlength=\"80\">\n",
    "        </center>\n",
    "        <p></p>\n",
    "        <p>\n",
    "            Thank you for taking the survey. To submit the results, press the\n",
    "            <b>Send info</b> button below.\n",
    "        </p>\n",
    "        <p></p>\n",
    "        <p>\n",
    "            <input type=\"submit\" value=\"Send info\">\n",
    "            <input type=\"reset\" value=\"Clear values\">\n",
    "        </p>\n",
    "        <hr>\n",
    "    </form>\n",
    "</body>\n",
    "\n",
    "</html>"
   ]
  },
  {
   "cell_type": "markdown",
   "metadata": {
    "slideshow": {
     "slide_type": "subslide"
    }
   },
   "source": [
    "#### You think you are done.\n",
    "\n",
    "Now, you think you are done. \n",
    "\n",
    "You show the system to your friends, explain them how to use it and how to create other surveys.\n",
    "\n",
    "But suddenly, they realize:\n",
    "\n",
    "  > Hov, we also want to see the reponses in a nice way. Currently, they are hidden in the database."
   ]
  },
  {
   "cell_type": "markdown",
   "metadata": {
    "slideshow": {
     "slide_type": "subslide"
    }
   },
   "source": [
    "So you take another session with them trying to understand what they mean by _\"Seeing the responses in a nice way.\"_\n",
    "\n",
    "That could be:\n",
    "\n",
    "  * You create a report over all of the responses as a CSV file.\n",
    "  * You create a report over all of the responses as an Excel spreadsheet.\n",
    "  * You create another small websystem that shows an overview of the responses in a browser.\n",
    "  * etc."
   ]
  },
  {
   "cell_type": "markdown",
   "metadata": {
    "slideshow": {
     "slide_type": "subslide"
    }
   },
   "source": [
    "#### So you implement another small system\n",
    "\n",
    "```python\n",
    "import sqlite3\n",
    "from flask import Flask, render_template, request\n",
    "\n",
    "\n",
    "app = Flask(__name__, static_url_path='')\n",
    "\n",
    "\n",
    "@app.route('/')\n",
    "def serve_report():\n",
    "    db = 'survey_replies.db'\n",
    "    with sqlite3.connect(db) as conn:\n",
    "        c = conn.cursor()\n",
    "        c.execute('SELECT * FROM Replies')\n",
    "        contents = c.fetchall()\n",
    "\n",
    "        for idx, line in enumerate(contents):\n",
    "            print(f'Reply {idx}: {line}')\n",
    "    return render_template('report.html', reply_lines=contents)\n",
    "\n",
    "\n",
    "if __name__ == '__main__':\n",
    "    app.run(host='127.0.0.1', port=5001, debug=True)\n",
    "```\n",
    "\n"
   ]
  },
  {
   "cell_type": "markdown",
   "metadata": {},
   "source": [
    "<head>\n",
    "</head>\n",
    "\n",
    "<body>\n",
    "    <h1><center>Replies collected so far.</center></h1>\n",
    "    <table style=\"width:80%\">\n",
    "        <tbody><tr>\n",
    "            <th>Gender</th>\n",
    "            <th>Month</th>\n",
    "            <th>Day</th>\n",
    "            <th>Year</th>\n",
    "            <th>Nationality</th>\n",
    "            <th>Favorite Ice Cream</th>\n",
    "            <th>Ice Cream</th>\n",
    "            <th>Cake</th>\n",
    "            <th>Cookies</th>\n",
    "            <th>Ingredient</th>\n",
    "            <th>Comment</th>\n",
    "            <th>Email</th>\n",
    "        </tr>\n",
    "        \n",
    "        <tr>\n",
    "            <th>female</th>\n",
    "            <th>5</th>\n",
    "            <th>7</th>\n",
    "            <th>1999</th>\n",
    "            <th>3</th>\n",
    "            <th>5</th>\n",
    "            <th>2</th>\n",
    "            <th>2</th>\n",
    "            <th>3</th>\n",
    "            <th>3</th>\n",
    "            <th>I do not have anything to say.</th>\n",
    "            <th>ano@nymous.org</th>\n",
    "        </tr>\n",
    "        \n",
    "        <tr>\n",
    "            <th>male</th>\n",
    "            <th>10</th>\n",
    "            <th>21</th>\n",
    "            <th>2004</th>\n",
    "            <th>5</th>\n",
    "            <th>2</th>\n",
    "            <th>1</th>\n",
    "            <th>2</th>\n",
    "            <th>3</th>\n",
    "            <th>4</th>\n",
    "            <th>I like brownies but nobody seems to be interested :(</th>\n",
    "            <th>who@cares.org</th>\n",
    "        </tr>\n",
    "        \n",
    "        <tr>\n",
    "            <th>na</th>\n",
    "            <th>1</th>\n",
    "            <th>1</th>\n",
    "            <th>1990</th>\n",
    "            <th>1</th>\n",
    "            <th>4</th>\n",
    "            <th>4</th>\n",
    "            <th>3</th>\n",
    "            <th>2</th>\n",
    "            <th>1</th>\n",
    "            <th>Kammerjunker!</th>\n",
    "            <th>ingen@ved.det</th>\n",
    "        </tr>\n",
    "        \n",
    "    </tbody></table>\n",
    "</body>"
   ]
  },
  {
   "cell_type": "markdown",
   "metadata": {
    "slideshow": {
     "slide_type": "slide"
    }
   },
   "source": [
    "# System Integration\n",
    "\n",
    "\n",
    "So suddenly you already wrote a quite complex distrubuted system, which consists of two subsystems. \n",
    "\n",
    "The two subsystems are integrated via access to a single database."
   ]
  },
  {
   "cell_type": "markdown",
   "metadata": {
    "slideshow": {
     "slide_type": "slide"
    }
   },
   "source": [
    "# Architecture\n",
    "\n",
    "<img src=\"images/architecture.png\" width=\"500px\"/>"
   ]
  },
  {
   "cell_type": "markdown",
   "metadata": {
    "slideshow": {
     "slide_type": "subslide"
    }
   },
   "source": [
    "# Deployment\n",
    "\n",
    "\n",
    "Currently, the survey system runs on your computer.\n",
    "\n",
    "That is of course not a proper solution as you cannot be always at ITU and cannot have your computer always up and running when someone wants to run another survey.\n",
    "\n",
    "So you talk to ITU's IT department to figure out if you can run your survey system on one of their servers that is accessible within ITU.\n",
    "\n",
    "They give you access to one, you install Python on it, copy your programs over, start the server programs (listening to port `0.0.0.0`), open ports 5000 and 5001 on the servers and likely you are done."
   ]
  },
  {
   "cell_type": "markdown",
   "metadata": {
    "slideshow": {
     "slide_type": "subslide"
    }
   },
   "source": [
    "# Monitoring\n",
    "\n",
    "However, your system in the current state writes to one single database file.\n",
    "\n",
    "Imagine your friends start a survey where all ITU students reply, that database file grows and suddenly it becomes bigger than the hard disk that ITU's IT department gave you...\n",
    "\n",
    "What will happen?\n",
    "\n",
    "Your server program will crash and nobody will be able to reply to any survey anymore.\n",
    "\n",
    "After this happens twice, you likely come to the idea to write a small program that sends you notifications before the program will crash so that you can take appropriate meassures."
   ]
  },
  {
   "cell_type": "markdown",
   "metadata": {
    "slideshow": {
     "slide_type": "subslide"
    }
   },
   "source": [
    "# New Features\n",
    "\n",
    "Your current systems implements already some features, you can:\n",
    "\n",
    "  * Create a survey manually in code\n",
    "  * Others can respond to surveys online\n",
    "  * Reports of surveys can be seen online\n",
    "  \n",
    "  \n",
    "But perhaps you want to create new functionality. For example, sending reports in Excel spreadsheets to the survey creators, creating plots and statistics about replies, etc.\n",
    "\n",
    "All those are called features of your system."
   ]
  },
  {
   "cell_type": "markdown",
   "metadata": {
    "slideshow": {
     "slide_type": "subslide"
    }
   },
   "source": [
    "## Computational thinking\n",
    "\n",
    "![](images/3c.jpg)"
   ]
  },
  {
   "cell_type": "code",
   "execution_count": 1,
   "metadata": {
    "slideshow": {
     "slide_type": "slide"
    }
   },
   "outputs": [
    {
     "data": {
      "image/jpeg": "[encoded data removed]",
      "text/html": [
       "\n",
       "        <iframe\n",
       "            width=\"400\"\n",
       "            height=\"300\"\n",
       "            src=\"https://www.youtube.com/embed/4pBo-GL9SRg\"\n",
       "            frameborder=\"0\"\n",
       "            allowfullscreen\n",
       "        ></iframe>\n",
       "        "
      ],
      "text/plain": [
       "<IPython.lib.display.YouTubeVideo at 0x7f69542a9390>"
      ]
     },
     "execution_count": 1,
     "metadata": {},
     "output_type": "execute_result"
    }
   ],
   "source": [
    "from IPython.display import YouTubeVideo\n",
    "#YouTubeVideo(\"4pBo-GL9SRg\", autoplay=1, theme=\"light\")\n",
    "YouTubeVideo(\"4pBo-GL9SRg\")"
   ]
  }
 ],
 "metadata": {
  "celltoolbar": "Slideshow",
  "kernelspec": {
   "display_name": "Python 3",
   "language": "python",
   "name": "python3"
  },
  "language_info": {
   "codemirror_mode": {
    "name": "ipython",
    "version": 3
   },
   "file_extension": ".py",
   "mimetype": "text/x-python",
   "name": "python",
   "nbconvert_exporter": "python",
   "pygments_lexer": "ipython3",
   "version": "3.6.3"
  }
 },
 "nbformat": 4,
 "nbformat_minor": 2
}
